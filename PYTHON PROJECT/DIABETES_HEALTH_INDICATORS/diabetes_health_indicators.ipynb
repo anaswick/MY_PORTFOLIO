{
 "cells": [
  {
   "cell_type": "markdown",
   "id": "15833053",
   "metadata": {},
   "source": [
    "# 1. Business Understanding : Diabetes , what is that ?\n",
    "\n",
    "## Overview\n",
    "\n",
    "Diabetes is a chronic, metabolic disease characterized by elevated levels of blood glucose (or blood sugar), which leads over time to serious damage to the heart, blood vessels, eyes, kidneys and nerves. The most common is type 2 diabetes, usually in adults, which occurs when the body becomes resistant to insulin or doesn't make enough insulin. In the past 3 decades the prevalence of type 2 diabetes has risen dramatically in countries of all income levels. Type 1 diabetes, once known as juvenile diabetes or insulin-dependent diabetes, is a chronic condition in which the pancreas produces little or no insulin by itself. For people living with diabetes, access to affordable treatment, including insulin, is critical to their survival. There is a globally agreed target to halt the rise in diabetes and obesity by 2025. \n",
    "\n",
    "About 422 million people worldwide have diabetes, the majority living in low-and middle-income countries, and 1.5 million deaths are directly attributed to diabetes each year. Both the number of cases and the prevalence of diabetes have been steadily increasing over the past few decades. \n",
    "\n",
    "## Symptom\n",
    "Symptoms of type 1 diabetes include the need to urinate often, thirst, constant hunger, weight loss, vision changes and fatigue. These symptoms may occur suddenly. Symptoms for type 2 diabetes are generally similar to those of type 1 diabetes but are often less marked. As a result, the disease may be diagnosed several years after onset, after complications have already arisen. For this reason, it is important to be aware of risk factors. \n",
    "\n",
    "## Prevention and Treatment\n",
    "Type 1 diabetes cannot currently be prevented. Effective approaches are available to prevent type 2 diabetes and to prevent the complications and premature death that can result from all types of diabetes. These include policies and practices across whole populations and within specific settings (school, home, workplace) that contribute to good health for everyone, regardless of whether they have diabetes, such as exercising regularly, eating healthily, avoiding smoking, and controlling blood pressure and lipids. \n",
    "\n",
    "The starting point for living well with diabetes is an early diagnosis – the longer a person lives with undiagnosed and untreated diabetes, the worse their health outcomes are likely to be. Easy access to basic diagnostics, such as blood glucose testing, should therefore be available in primary health care settings. Patients will need periodic specialist assessment or treatment for complications. \n",
    "\n",
    "A series of cost-effective interventions can improve patient outcomes, regardless of what type of diabetes they may have. These interventions include blood glucose control through a combination of diet, physical activity and, if necessary, medication; control of blood pressure and lipids to reduce cardiovascular risk and other complications; and regular screening for damage to the eyes, kidneys and feet to facilitate early treatment. \n",
    "\n",
    "Source : [WHO : Diabetes](https://www.who.int/health-topics/diabetes#tab=tab_1)"
   ]
  },
  {
   "cell_type": "markdown",
   "id": "1f4c45a5",
   "metadata": {},
   "source": [
    "# Diabetes Risk Factors\n",
    "\n",
    "## Diabetes Type-1\n",
    "\n",
    "Type 1 diabetes is thought to be caused by an immune reaction (the body attacks itself by mistake). Risk factors for type 1 diabetes are not as clear as for prediabetes and type 2 diabetes. Known risk factors include:\n",
    "\n",
    "- Family history: Having a parent, brother, or sister with type 1 diabetes.\n",
    "- Age: You can get type 1 diabetes at any age, but it usually develops in children, teens, or young adults.\n",
    "In the United States, White people are more likely to develop type 1 diabetes than African American and Hispanic or Latino people.\n",
    "\n",
    "Currently, no one knows how to prevent type 1 diabetes.\n",
    "\n",
    "## Diabetes Type-2\n",
    "You’re at risk for type 2 diabetes if you:\n",
    "\n",
    "- Have prediabetes.\n",
    "- Are overweight.\n",
    "- Are 45 years or older.\n",
    "- Have a parent, brother, or sister with type 2 diabetes.\n",
    "- Are physically active less than 3 times a week.\n",
    "- Have ever had gestational diabetes (diabetes during pregnancy) or given birth to a baby who weighed over 9 pounds.\n",
    "- Are an African American, Hispanic or Latino, American Indian, or Alaska Native person. Some Pacific Islanders and Asian American people are also at higher risk.\n",
    "If you have non-alcoholic fatty liver disease you may also be at risk for type 2 diabetes.\n",
    "\n",
    "You can prevent or delay type 2 diabetes with proven lifestyle changes. These include losing weight if you’re overweight, eating a healthy diet, and getting regular physical activity.\n",
    "\n",
    "Source : [Diabetes Risk Factors](https://www.cdc.gov/diabetes/basics/risk-factors.html)"
   ]
  },
  {
   "cell_type": "markdown",
   "id": "ec193cb5",
   "metadata": {},
   "source": [
    "# About the Data Source\n",
    "\n",
    "## Content\n",
    "\n",
    "The Behavioral Risk Factor Surveillance System (BRFSS) is a health-related telephone survey that is collected annually by the CDC. Each year, the survey collects responses from over 400,000 Americans on health-related risk behaviors, chronic health conditions, and the use of preventative services. It has been conducted every year since 1984. For this project, a csv of the dataset available on Kaggle for the year 2015 was used. This original dataset contains responses from 441,455 individuals and has 330 features. These features are either questions directly asked of participants, or calculated variables based on individual participant responses.\n",
    "\n",
    "This dataset contains 3 files:\n",
    "\n",
    "1. diabetes _ 012 _ health _ indicators _ BRFSS2015.csv is a clean dataset of 253,680 survey responses to the CDC's BRFSS2015. The target variable Diabetes_012 has 3 classes. 0 is for no diabetes or only during pregnancy, 1 is for prediabetes, and 2 is for diabetes. There is class imbalance in this dataset. This dataset has 21 feature variables\n",
    "2. diabetes _ binary _ 5050split _ health _ indicators _ BRFSS2015.csv is a clean dataset of 70,692 survey responses to the CDC's BRFSS2015. It has an equal 50-50 split of respondents with no diabetes and with either prediabetes or diabetes. The target variable Diabetes_binary has 2 classes. 0 is for no diabetes, and 1 is for prediabetes or diabetes. This dataset has 21 feature variables and is balanced.\n",
    "3. diabetes _ binary _ health _ indicators _ BRFSS2015.csv is a clean dataset of 253,680 survey responses to the CDC's BRFSS2015. The target variable Diabetes_binary has 2 classes. 0 is for no diabetes, and 1 is for prediabetes or diabetes. This dataset has 21 feature variables and is not balanced.\n",
    "\n",
    "Explore some of the following research questions:\n",
    "\n",
    "1. Can survey questions from the BRFSS provide accurate predictions of whether an individual has diabetes?\n",
    "2. What risk factors are most predictive of diabetes risk?\n",
    "3. Can we use a subset of the risk factors to accurately predict whether an individual has diabetes?\n",
    "4. Can we create a short form of questions from the BRFSS using feature selection to accurately predict if someone might have diabetes or is at high risk of diabetes?\n",
    "\n",
    "## Acknowledgement\n",
    "It it important to reiterate that I did not create this dataset, it is just a cleaned and consolidated dataset created from the BRFSS 2015 dataset already on Kaggle. That dataset can be found here [here](https://www.kaggle.com/datasets/cdc/behavioral-risk-factor-surveillance-system) and the notebook I used for the data cleaning can be found [here](https://www.kaggle.com/code/alexteboul/diabetes-health-indicators-dataset-notebook/notebook)."
   ]
  },
  {
   "cell_type": "markdown",
   "id": "d792216c",
   "metadata": {},
   "source": [
    "# Importing Libraries"
   ]
  },
  {
   "cell_type": "code",
   "execution_count": 434,
   "id": "9aebde0d",
   "metadata": {},
   "outputs": [],
   "source": [
    "import numpy as np \n",
    "import pandas as pd \n",
    "import matplotlib.pyplot as plt\n",
    "from matplotlib.pyplot import figure\n",
    "import seaborn as sns\n",
    "from scipy import stats"
   ]
  },
  {
   "cell_type": "markdown",
   "id": "091fb830",
   "metadata": {},
   "source": [
    "### Importing Datasets"
   ]
  },
  {
   "cell_type": "code",
   "execution_count": 391,
   "id": "7998e5ff",
   "metadata": {},
   "outputs": [],
   "source": [
    "db_hi = pd.read_csv('D:\\Project\\Dataset\\Diabetes Health Indicators Dataset\\diabetes_binary_split.csv')"
   ]
  },
  {
   "cell_type": "markdown",
   "id": "e1583a5e",
   "metadata": {},
   "source": [
    "## Description for each features\n",
    "\n",
    "This complete description for each features are based on this [pdf files](https://www.cdc.gov/brfss/annual_data/2015/pdf/codebook15_llcp.pdf)\n",
    "\n",
    "1. **Diabetes_binary** : indicate whether respondent have diabetes or not <br/>\n",
    "0 = non-diabetics , 1 = diabetics <br/><br/>\n",
    "2. **HighBP** : indicate whether respondent have highblood pressure issue or not <br/>\n",
    "0 = no HighBP , 1 = HighBP <br/><br/>\n",
    "3. **HighChol** : indicate whether respondent have high cholesterol or not <br/>\n",
    "0 = no HighChol , 1 = HighChol<br/><br/>\n",
    "4. **CholCheck** : indicate whether respondent did cholesterol check in the last 5 years or not <br/>\n",
    "0 = no cholecterol check in 5 years , 1 : did cholesterol check in 5 years <br/><br/>\n",
    "5. **BMI** : indicate someone body mass index <br/><br/>\n",
    "6. **Smoker** : indicate whether someone smoke 100 cigarettes or more in the entire life <br/>\n",
    "0 = no (less than 100 cigarettes in the entire life), 1 = yes (smoke 100 or more cigarettes in the entire life)<br/><br/>\n",
    "7. **Stroke** : indicate whether respondent ever told that they had a stroke or not <br/>\n",
    "0 = no stroke, 1 = with stroke<br/><br/>\n",
    "8. **HeartDiseaseorAttack** : indicate whether respondent ever diagnosed that they had coronary heart disease <br/> \n",
    "0 = no coronary heart disease (CHD) and/or myocardial infarction (MI), 1 = yes, have coronary heart disease (CHD) and/or myocardial infarction (MI)<br/><br/>\n",
    "9. **PhysActivity** : <br/>\n",
    "0 : no physical activity in the last 30 days - not including jobs\n",
    "1 : did physical activity in the last 30 days - not including jobs<br/><br/>\n",
    "10. **Fruits** : indicate whether respondent eat fruits in the past month <br/> \n",
    "0 = no, 1 = yes<br/><br/>\n",
    "11. **Veggies** : indicate whether respondent eat vegetables in the past month <br/>\n",
    "0 = no, 1 = yes<br/><br/>\n",
    "12. **HvyAlcoholConsump** : indicate whether respondent is a Heavy Alcohol Drinker or not (adult men having more than 14 drinks per week and adult women having more than 7 drinks per week) <br/>\n",
    "0 = no, 1 = yes <br/><br/>\n",
    "13. **AnyHealthcare** : indicate whether respondent have any kind of health care coverage, including health insurance, prepaid plans such as HMOs, or government plans such as Medicare, or Indian Health Service <br/> \n",
    "0 = no , 1 = yes <br/><br/>\n",
    "14. **NoDocbcCost** : indicate whether there was a time in the past 12 months when you needed to see a doctor but could not because of cost.<br/> \n",
    "0 = no, 1 = yes<br/><br/>\n",
    "15. **GenHlth** : indicate respondent general health condition <br/> \n",
    "1 =  excellent, 2 = very good, 3 = good, 4 = fair, 5 = poor<br/><br/>\n",
    "16. **MentHlth** : indicate how many days during the past 30 days was your mental health not good, range from 0 to 30<br/><br/>\n",
    "17. **PhysHlth** : indicate if how many days during the past 30 days was your physical health not good, range from 0 to 30<br/><br/>\n",
    "18. **DiffWalk** : indicate if respondent have serious difficulty walking or climbing stairs. 0 = no, 1 = yes<br/><br/>\n",
    "19. **Sex** : 0 = female , 1 = male<br/><br/>\n",
    "20. **Age** : respondent age <br/><br/>\n",
    "21. **Education** : indicate respondent education level<br/>\n",
    "1 = never attended school or only kindergarten<br/>\n",
    "2 = grades 1 through 8 (elementary school)<br/>\n",
    "3 = grade 9 through 11 (some high school)<br/>\n",
    "4 = grade 12 or GED (high school graduate)<br/>\n",
    "5 = college 1 year to 3 years (some college or technical school)<br/>\n",
    "6 = college 4 years or more (college graduate)<br/><br/>\n",
    "22. **Income** : indicate respondent annual income level per household in USD<br/>\n",
    "1 = less than 10.000 <br/>\n",
    "2 = between 10.000 - 15.000<br/>\n",
    "3 = between 15.000 - 20.000<br/>\n",
    "4 = between 20.000 - 25.000<br/>\n",
    "5 = between 25.000 - 35.000<br/>\n",
    "6 = between 35.000 - 50.000<br/>\n",
    "7 = between 50.000 - 75.000<br/>\n",
    "8 = 75.000 or more<br/>"
   ]
  },
  {
   "cell_type": "code",
   "execution_count": 392,
   "id": "cb84feab",
   "metadata": {
    "scrolled": false
   },
   "outputs": [
    {
     "data": {
      "text/html": [
       "<div>\n",
       "<style scoped>\n",
       "    .dataframe tbody tr th:only-of-type {\n",
       "        vertical-align: middle;\n",
       "    }\n",
       "\n",
       "    .dataframe tbody tr th {\n",
       "        vertical-align: top;\n",
       "    }\n",
       "\n",
       "    .dataframe thead th {\n",
       "        text-align: right;\n",
       "    }\n",
       "</style>\n",
       "<table border=\"1\" class=\"dataframe\">\n",
       "  <thead>\n",
       "    <tr style=\"text-align: right;\">\n",
       "      <th></th>\n",
       "      <th>count</th>\n",
       "      <th>mean</th>\n",
       "      <th>std</th>\n",
       "      <th>min</th>\n",
       "      <th>25%</th>\n",
       "      <th>50%</th>\n",
       "      <th>75%</th>\n",
       "      <th>max</th>\n",
       "    </tr>\n",
       "  </thead>\n",
       "  <tbody>\n",
       "    <tr>\n",
       "      <th>Diabetes_binary</th>\n",
       "      <td>70692.0</td>\n",
       "      <td>0.500000</td>\n",
       "      <td>0.500004</td>\n",
       "      <td>0.0</td>\n",
       "      <td>0.0</td>\n",
       "      <td>0.5</td>\n",
       "      <td>1.0</td>\n",
       "      <td>1.0</td>\n",
       "    </tr>\n",
       "    <tr>\n",
       "      <th>HighBP</th>\n",
       "      <td>70692.0</td>\n",
       "      <td>0.563458</td>\n",
       "      <td>0.495960</td>\n",
       "      <td>0.0</td>\n",
       "      <td>0.0</td>\n",
       "      <td>1.0</td>\n",
       "      <td>1.0</td>\n",
       "      <td>1.0</td>\n",
       "    </tr>\n",
       "    <tr>\n",
       "      <th>HighChol</th>\n",
       "      <td>70692.0</td>\n",
       "      <td>0.525703</td>\n",
       "      <td>0.499342</td>\n",
       "      <td>0.0</td>\n",
       "      <td>0.0</td>\n",
       "      <td>1.0</td>\n",
       "      <td>1.0</td>\n",
       "      <td>1.0</td>\n",
       "    </tr>\n",
       "    <tr>\n",
       "      <th>CholCheck</th>\n",
       "      <td>70692.0</td>\n",
       "      <td>0.975259</td>\n",
       "      <td>0.155336</td>\n",
       "      <td>0.0</td>\n",
       "      <td>1.0</td>\n",
       "      <td>1.0</td>\n",
       "      <td>1.0</td>\n",
       "      <td>1.0</td>\n",
       "    </tr>\n",
       "    <tr>\n",
       "      <th>BMI</th>\n",
       "      <td>70692.0</td>\n",
       "      <td>29.856985</td>\n",
       "      <td>7.113954</td>\n",
       "      <td>12.0</td>\n",
       "      <td>25.0</td>\n",
       "      <td>29.0</td>\n",
       "      <td>33.0</td>\n",
       "      <td>98.0</td>\n",
       "    </tr>\n",
       "    <tr>\n",
       "      <th>Smoker</th>\n",
       "      <td>70692.0</td>\n",
       "      <td>0.475273</td>\n",
       "      <td>0.499392</td>\n",
       "      <td>0.0</td>\n",
       "      <td>0.0</td>\n",
       "      <td>0.0</td>\n",
       "      <td>1.0</td>\n",
       "      <td>1.0</td>\n",
       "    </tr>\n",
       "    <tr>\n",
       "      <th>Stroke</th>\n",
       "      <td>70692.0</td>\n",
       "      <td>0.062171</td>\n",
       "      <td>0.241468</td>\n",
       "      <td>0.0</td>\n",
       "      <td>0.0</td>\n",
       "      <td>0.0</td>\n",
       "      <td>0.0</td>\n",
       "      <td>1.0</td>\n",
       "    </tr>\n",
       "    <tr>\n",
       "      <th>HeartDiseaseorAttack</th>\n",
       "      <td>70692.0</td>\n",
       "      <td>0.147810</td>\n",
       "      <td>0.354914</td>\n",
       "      <td>0.0</td>\n",
       "      <td>0.0</td>\n",
       "      <td>0.0</td>\n",
       "      <td>0.0</td>\n",
       "      <td>1.0</td>\n",
       "    </tr>\n",
       "    <tr>\n",
       "      <th>PhysActivity</th>\n",
       "      <td>70692.0</td>\n",
       "      <td>0.703036</td>\n",
       "      <td>0.456924</td>\n",
       "      <td>0.0</td>\n",
       "      <td>0.0</td>\n",
       "      <td>1.0</td>\n",
       "      <td>1.0</td>\n",
       "      <td>1.0</td>\n",
       "    </tr>\n",
       "    <tr>\n",
       "      <th>Fruits</th>\n",
       "      <td>70692.0</td>\n",
       "      <td>0.611795</td>\n",
       "      <td>0.487345</td>\n",
       "      <td>0.0</td>\n",
       "      <td>0.0</td>\n",
       "      <td>1.0</td>\n",
       "      <td>1.0</td>\n",
       "      <td>1.0</td>\n",
       "    </tr>\n",
       "    <tr>\n",
       "      <th>Veggies</th>\n",
       "      <td>70692.0</td>\n",
       "      <td>0.788774</td>\n",
       "      <td>0.408181</td>\n",
       "      <td>0.0</td>\n",
       "      <td>1.0</td>\n",
       "      <td>1.0</td>\n",
       "      <td>1.0</td>\n",
       "      <td>1.0</td>\n",
       "    </tr>\n",
       "    <tr>\n",
       "      <th>HvyAlcoholConsump</th>\n",
       "      <td>70692.0</td>\n",
       "      <td>0.042721</td>\n",
       "      <td>0.202228</td>\n",
       "      <td>0.0</td>\n",
       "      <td>0.0</td>\n",
       "      <td>0.0</td>\n",
       "      <td>0.0</td>\n",
       "      <td>1.0</td>\n",
       "    </tr>\n",
       "    <tr>\n",
       "      <th>AnyHealthcare</th>\n",
       "      <td>70692.0</td>\n",
       "      <td>0.954960</td>\n",
       "      <td>0.207394</td>\n",
       "      <td>0.0</td>\n",
       "      <td>1.0</td>\n",
       "      <td>1.0</td>\n",
       "      <td>1.0</td>\n",
       "      <td>1.0</td>\n",
       "    </tr>\n",
       "    <tr>\n",
       "      <th>NoDocbcCost</th>\n",
       "      <td>70692.0</td>\n",
       "      <td>0.093914</td>\n",
       "      <td>0.291712</td>\n",
       "      <td>0.0</td>\n",
       "      <td>0.0</td>\n",
       "      <td>0.0</td>\n",
       "      <td>0.0</td>\n",
       "      <td>1.0</td>\n",
       "    </tr>\n",
       "    <tr>\n",
       "      <th>GenHlth</th>\n",
       "      <td>70692.0</td>\n",
       "      <td>2.837082</td>\n",
       "      <td>1.113565</td>\n",
       "      <td>1.0</td>\n",
       "      <td>2.0</td>\n",
       "      <td>3.0</td>\n",
       "      <td>4.0</td>\n",
       "      <td>5.0</td>\n",
       "    </tr>\n",
       "    <tr>\n",
       "      <th>MentHlth</th>\n",
       "      <td>70692.0</td>\n",
       "      <td>3.752037</td>\n",
       "      <td>8.155627</td>\n",
       "      <td>0.0</td>\n",
       "      <td>0.0</td>\n",
       "      <td>0.0</td>\n",
       "      <td>2.0</td>\n",
       "      <td>30.0</td>\n",
       "    </tr>\n",
       "    <tr>\n",
       "      <th>PhysHlth</th>\n",
       "      <td>70692.0</td>\n",
       "      <td>5.810417</td>\n",
       "      <td>10.062261</td>\n",
       "      <td>0.0</td>\n",
       "      <td>0.0</td>\n",
       "      <td>0.0</td>\n",
       "      <td>6.0</td>\n",
       "      <td>30.0</td>\n",
       "    </tr>\n",
       "    <tr>\n",
       "      <th>DiffWalk</th>\n",
       "      <td>70692.0</td>\n",
       "      <td>0.252730</td>\n",
       "      <td>0.434581</td>\n",
       "      <td>0.0</td>\n",
       "      <td>0.0</td>\n",
       "      <td>0.0</td>\n",
       "      <td>1.0</td>\n",
       "      <td>1.0</td>\n",
       "    </tr>\n",
       "    <tr>\n",
       "      <th>Sex</th>\n",
       "      <td>70692.0</td>\n",
       "      <td>0.456997</td>\n",
       "      <td>0.498151</td>\n",
       "      <td>0.0</td>\n",
       "      <td>0.0</td>\n",
       "      <td>0.0</td>\n",
       "      <td>1.0</td>\n",
       "      <td>1.0</td>\n",
       "    </tr>\n",
       "    <tr>\n",
       "      <th>Age</th>\n",
       "      <td>70692.0</td>\n",
       "      <td>8.584055</td>\n",
       "      <td>2.852153</td>\n",
       "      <td>1.0</td>\n",
       "      <td>7.0</td>\n",
       "      <td>9.0</td>\n",
       "      <td>11.0</td>\n",
       "      <td>13.0</td>\n",
       "    </tr>\n",
       "    <tr>\n",
       "      <th>Education</th>\n",
       "      <td>70692.0</td>\n",
       "      <td>4.920953</td>\n",
       "      <td>1.029081</td>\n",
       "      <td>1.0</td>\n",
       "      <td>4.0</td>\n",
       "      <td>5.0</td>\n",
       "      <td>6.0</td>\n",
       "      <td>6.0</td>\n",
       "    </tr>\n",
       "    <tr>\n",
       "      <th>Income</th>\n",
       "      <td>70692.0</td>\n",
       "      <td>5.698311</td>\n",
       "      <td>2.175196</td>\n",
       "      <td>1.0</td>\n",
       "      <td>4.0</td>\n",
       "      <td>6.0</td>\n",
       "      <td>8.0</td>\n",
       "      <td>8.0</td>\n",
       "    </tr>\n",
       "  </tbody>\n",
       "</table>\n",
       "</div>"
      ],
      "text/plain": [
       "                        count       mean        std   min   25%   50%   75%  \\\n",
       "Diabetes_binary       70692.0   0.500000   0.500004   0.0   0.0   0.5   1.0   \n",
       "HighBP                70692.0   0.563458   0.495960   0.0   0.0   1.0   1.0   \n",
       "HighChol              70692.0   0.525703   0.499342   0.0   0.0   1.0   1.0   \n",
       "CholCheck             70692.0   0.975259   0.155336   0.0   1.0   1.0   1.0   \n",
       "BMI                   70692.0  29.856985   7.113954  12.0  25.0  29.0  33.0   \n",
       "Smoker                70692.0   0.475273   0.499392   0.0   0.0   0.0   1.0   \n",
       "Stroke                70692.0   0.062171   0.241468   0.0   0.0   0.0   0.0   \n",
       "HeartDiseaseorAttack  70692.0   0.147810   0.354914   0.0   0.0   0.0   0.0   \n",
       "PhysActivity          70692.0   0.703036   0.456924   0.0   0.0   1.0   1.0   \n",
       "Fruits                70692.0   0.611795   0.487345   0.0   0.0   1.0   1.0   \n",
       "Veggies               70692.0   0.788774   0.408181   0.0   1.0   1.0   1.0   \n",
       "HvyAlcoholConsump     70692.0   0.042721   0.202228   0.0   0.0   0.0   0.0   \n",
       "AnyHealthcare         70692.0   0.954960   0.207394   0.0   1.0   1.0   1.0   \n",
       "NoDocbcCost           70692.0   0.093914   0.291712   0.0   0.0   0.0   0.0   \n",
       "GenHlth               70692.0   2.837082   1.113565   1.0   2.0   3.0   4.0   \n",
       "MentHlth              70692.0   3.752037   8.155627   0.0   0.0   0.0   2.0   \n",
       "PhysHlth              70692.0   5.810417  10.062261   0.0   0.0   0.0   6.0   \n",
       "DiffWalk              70692.0   0.252730   0.434581   0.0   0.0   0.0   1.0   \n",
       "Sex                   70692.0   0.456997   0.498151   0.0   0.0   0.0   1.0   \n",
       "Age                   70692.0   8.584055   2.852153   1.0   7.0   9.0  11.0   \n",
       "Education             70692.0   4.920953   1.029081   1.0   4.0   5.0   6.0   \n",
       "Income                70692.0   5.698311   2.175196   1.0   4.0   6.0   8.0   \n",
       "\n",
       "                       max  \n",
       "Diabetes_binary        1.0  \n",
       "HighBP                 1.0  \n",
       "HighChol               1.0  \n",
       "CholCheck              1.0  \n",
       "BMI                   98.0  \n",
       "Smoker                 1.0  \n",
       "Stroke                 1.0  \n",
       "HeartDiseaseorAttack   1.0  \n",
       "PhysActivity           1.0  \n",
       "Fruits                 1.0  \n",
       "Veggies                1.0  \n",
       "HvyAlcoholConsump      1.0  \n",
       "AnyHealthcare          1.0  \n",
       "NoDocbcCost            1.0  \n",
       "GenHlth                5.0  \n",
       "MentHlth              30.0  \n",
       "PhysHlth              30.0  \n",
       "DiffWalk               1.0  \n",
       "Sex                    1.0  \n",
       "Age                   13.0  \n",
       "Education              6.0  \n",
       "Income                 8.0  "
      ]
     },
     "execution_count": 392,
     "metadata": {},
     "output_type": "execute_result"
    }
   ],
   "source": [
    "db_hi.describe().T"
   ]
  },
  {
   "cell_type": "markdown",
   "id": "52a569bf",
   "metadata": {},
   "source": []
  },
  {
   "cell_type": "code",
   "execution_count": 393,
   "id": "de246efb",
   "metadata": {
    "scrolled": false
   },
   "outputs": [
    {
     "name": "stdout",
     "output_type": "stream",
     "text": [
      "<class 'pandas.core.frame.DataFrame'>\n",
      "RangeIndex: 70692 entries, 0 to 70691\n",
      "Data columns (total 22 columns):\n",
      " #   Column                Non-Null Count  Dtype  \n",
      "---  ------                --------------  -----  \n",
      " 0   Diabetes_binary       70692 non-null  float64\n",
      " 1   HighBP                70692 non-null  float64\n",
      " 2   HighChol              70692 non-null  float64\n",
      " 3   CholCheck             70692 non-null  float64\n",
      " 4   BMI                   70692 non-null  float64\n",
      " 5   Smoker                70692 non-null  float64\n",
      " 6   Stroke                70692 non-null  float64\n",
      " 7   HeartDiseaseorAttack  70692 non-null  float64\n",
      " 8   PhysActivity          70692 non-null  float64\n",
      " 9   Fruits                70692 non-null  float64\n",
      " 10  Veggies               70692 non-null  float64\n",
      " 11  HvyAlcoholConsump     70692 non-null  float64\n",
      " 12  AnyHealthcare         70692 non-null  float64\n",
      " 13  NoDocbcCost           70692 non-null  float64\n",
      " 14  GenHlth               70692 non-null  float64\n",
      " 15  MentHlth              70692 non-null  float64\n",
      " 16  PhysHlth              70692 non-null  float64\n",
      " 17  DiffWalk              70692 non-null  float64\n",
      " 18  Sex                   70692 non-null  float64\n",
      " 19  Age                   70692 non-null  float64\n",
      " 20  Education             70692 non-null  float64\n",
      " 21  Income                70692 non-null  float64\n",
      "dtypes: float64(22)\n",
      "memory usage: 11.9 MB\n"
     ]
    }
   ],
   "source": [
    "db_hi.info()"
   ]
  },
  {
   "cell_type": "markdown",
   "id": "673dc649",
   "metadata": {},
   "source": [
    "there is no null-value found in each features"
   ]
  },
  {
   "cell_type": "code",
   "execution_count": 394,
   "id": "041cf02a",
   "metadata": {},
   "outputs": [
    {
     "data": {
      "text/plain": [
       "(70692, 22)"
      ]
     },
     "execution_count": 394,
     "metadata": {},
     "output_type": "execute_result"
    }
   ],
   "source": [
    "db_hi.shape"
   ]
  },
  {
   "cell_type": "code",
   "execution_count": 395,
   "id": "65529b61",
   "metadata": {},
   "outputs": [
    {
     "data": {
      "text/plain": [
       "Index(['Diabetes_binary', 'HighBP', 'HighChol', 'CholCheck', 'BMI', 'Smoker',\n",
       "       'Stroke', 'HeartDiseaseorAttack', 'PhysActivity', 'Fruits', 'Veggies',\n",
       "       'HvyAlcoholConsump', 'AnyHealthcare', 'NoDocbcCost', 'GenHlth',\n",
       "       'MentHlth', 'PhysHlth', 'DiffWalk', 'Sex', 'Age', 'Education',\n",
       "       'Income'],\n",
       "      dtype='object')"
      ]
     },
     "execution_count": 395,
     "metadata": {},
     "output_type": "execute_result"
    }
   ],
   "source": [
    "db_hi.columns"
   ]
  },
  {
   "cell_type": "markdown",
   "id": "aa32147d",
   "metadata": {},
   "source": [
    "### Split Dataframe Into Non-diabetes and Diabetes"
   ]
  },
  {
   "cell_type": "code",
   "execution_count": 396,
   "id": "e20c7a17",
   "metadata": {},
   "outputs": [],
   "source": [
    "# Might be useful later to divide dataset into two - diabetes and no_diabetes\n",
    "db_hi_0 = db_hi[db_hi['Diabetes_binary'] == 0]\n",
    "db_hi_1 = db_hi[db_hi['Diabetes_binary'] == 1]"
   ]
  },
  {
   "cell_type": "code",
   "execution_count": 397,
   "id": "5d3dcc8e",
   "metadata": {},
   "outputs": [
    {
     "data": {
      "image/png": "[encoded data removed]",
      "text/plain": [
       "<Figure size 1440x720 with 2 Axes>"
      ]
     },
     "metadata": {
      "needs_background": "light"
     },
     "output_type": "display_data"
    }
   ],
   "source": [
    "# Lets discover gender distribution \n",
    "fig, (ax1, ax2) = plt.subplots(1,2, sharey=True, figsize=(20,10))\n",
    "ax1 = sns.countplot(data=db_hi_0, x='Sex', ax=ax1, palette='cool')\n",
    "ax1.set(title='Gender distribution for no-diabetes')\n",
    "ax1.set_xticklabels(['Female', 'Male'])\n",
    "\n",
    "ax2 = sns.countplot(data=db_hi_1, x='Sex', ax=ax2, palette='cool')\n",
    "ax2.set(title='Gender distribution for diabetics')\n",
    "ax2.set_xticklabels(['Female', 'Male'])\n",
    "plt.show()"
   ]
  },
  {
   "cell_type": "code",
   "execution_count": 398,
   "id": "1ed75947",
   "metadata": {},
   "outputs": [
    {
     "data": {
      "text/plain": [
       "[Text(0, 0, '18-24'),\n",
       " Text(1, 0, '25-29'),\n",
       " Text(2, 0, '30-34'),\n",
       " Text(3, 0, '35-39'),\n",
       " Text(4, 0, '40-44'),\n",
       " Text(5, 0, '45-49'),\n",
       " Text(6, 0, '50-54'),\n",
       " Text(7, 0, '55-59'),\n",
       " Text(8, 0, '60-64'),\n",
       " Text(9, 0, '65-69'),\n",
       " Text(10, 0, '70-74'),\n",
       " Text(11, 0, '75-79'),\n",
       " Text(12, 0, '>80')]"
      ]
     },
     "execution_count": 398,
     "metadata": {},
     "output_type": "execute_result"
    },
    {
     "data": {
      "image/png": "[encoded data removed]",
      "text/plain": [
       "<Figure size 432x288 with 1 Axes>"
      ]
     },
     "metadata": {
      "needs_background": "light"
     },
     "output_type": "display_data"
    }
   ],
   "source": [
    "# Check age distribution for people with no-diabetes\n",
    "ax = sns.countplot(data=db_hi_0, x='Age')\n",
    "ax.set(title= 'Age distribution for no-diabetes')\n",
    "ax.set_xticklabels(['18-24', '25-29', '30-34', '35-39', '40-44', '45-49', '50-54', '55-59', '60-64', '65-69', '70-74', '75-79', '>80'], rotation = 45)"
   ]
  },
  {
   "cell_type": "code",
   "execution_count": 399,
   "id": "55f915fb",
   "metadata": {},
   "outputs": [
    {
     "data": {
      "text/plain": [
       "[Text(0, 0, '18-24'),\n",
       " Text(1, 0, '25-29'),\n",
       " Text(2, 0, '30-34'),\n",
       " Text(3, 0, '35-39'),\n",
       " Text(4, 0, '40-44'),\n",
       " Text(5, 0, '45-49'),\n",
       " Text(6, 0, '50-54'),\n",
       " Text(7, 0, '55-59'),\n",
       " Text(8, 0, '60-64'),\n",
       " Text(9, 0, '65-69'),\n",
       " Text(10, 0, '70-74'),\n",
       " Text(11, 0, '75-79'),\n",
       " Text(12, 0, '>80')]"
      ]
     },
     "execution_count": 399,
     "metadata": {},
     "output_type": "execute_result"
    },
    {
     "data": {
      "image/png": "[encoded data removed]",
      "text/plain": [
       "<Figure size 432x288 with 1 Axes>"
      ]
     },
     "metadata": {
      "needs_background": "light"
     },
     "output_type": "display_data"
    }
   ],
   "source": [
    "# Check age distribution for people with diabetes\n",
    "ax = sns.countplot(data=db_hi_1, x='Age')\n",
    "ax.set(title= 'Age distribution for no-diabetes')\n",
    "ax.set_xticklabels(['18-24', '25-29', '30-34', '35-39', '40-44', '45-49', '50-54', '55-59', '60-64', '65-69', '70-74', '75-79', '>80'], rotation = 45)"
   ]
  },
  {
   "cell_type": "code",
   "execution_count": 400,
   "id": "c2ebc078",
   "metadata": {},
   "outputs": [
    {
     "data": {
      "text/plain": [
       "(15.0, 60.0)"
      ]
     },
     "execution_count": 400,
     "metadata": {},
     "output_type": "execute_result"
    },
    {
     "data": {
      "image/png": "[encoded data removed]",
      "text/plain": [
       "<Figure size 720x360 with 1 Axes>"
      ]
     },
     "metadata": {
      "needs_background": "light"
     },
     "output_type": "display_data"
    }
   ],
   "source": [
    "# Check BMI for people no-diabetes. \n",
    "# We will remove outliers for better visualization, less than 15 and greater than 60.\n",
    "plt.figure(figsize = (10,5))\n",
    "sns.histplot(data=db_hi_0, x='BMI').set(title='BMI distribution for diabetics')\n",
    "plt.xlim(15, 60)"
   ]
  },
  {
   "cell_type": "code",
   "execution_count": 401,
   "id": "426a3536",
   "metadata": {},
   "outputs": [
    {
     "data": {
      "text/plain": [
       "(15.0, 60.0)"
      ]
     },
     "execution_count": 401,
     "metadata": {},
     "output_type": "execute_result"
    },
    {
     "data": {
      "image/png": "[encoded data removed]",
      "text/plain": [
       "<Figure size 720x360 with 1 Axes>"
      ]
     },
     "metadata": {
      "needs_background": "light"
     },
     "output_type": "display_data"
    }
   ],
   "source": [
    "# Check BMI for people with diabetes. \n",
    "# We will remove outliers for better visualization, less than 15 and greater than 60.\n",
    "plt.figure(figsize = (10,5))\n",
    "sns.histplot(data=db_hi_1, x='BMI').set(title='BMI distribution for diabetics')\n",
    "plt.xlim(15, 60)"
   ]
  },
  {
   "cell_type": "markdown",
   "id": "af9e4373",
   "metadata": {},
   "source": [
    "### Box-plot for comparing BMI between no diabetes and diabetes respondents"
   ]
  },
  {
   "cell_type": "code",
   "execution_count": 402,
   "id": "f9b5b00f",
   "metadata": {},
   "outputs": [
    {
     "data": {
      "text/plain": [
       "(15.0, 60.0)"
      ]
     },
     "execution_count": 402,
     "metadata": {},
     "output_type": "execute_result"
    },
    {
     "data": {
      "image/png": "[encoded data removed]",
      "text/plain": [
       "<Figure size 432x288 with 1 Axes>"
      ]
     },
     "metadata": {
      "needs_background": "light"
     },
     "output_type": "display_data"
    }
   ],
   "source": [
    "ax = sns.boxplot(data=db_hi, x='Diabetes_binary', y='BMI', palette='Paired')\n",
    "ax.set(title = 'BMI distribution for no-diabetes and diabetics')\n",
    "ax.set_xticklabels(['No diabetes', 'Diabetic'])\n",
    "plt.ylim(15, 60)"
   ]
  },
  {
   "cell_type": "code",
   "execution_count": 403,
   "id": "c838208a",
   "metadata": {},
   "outputs": [
    {
     "data": {
      "image/png": "[encoded data removed]",
      "text/plain": [
       "<Figure size 864x1080 with 6 Axes>"
      ]
     },
     "metadata": {
      "needs_background": "light"
     },
     "output_type": "display_data"
    }
   ],
   "source": [
    "# There are some binary columns that we can visualy compare data between no-diabetes and diabetics.\n",
    "# Lets iterate from those columns and build plots in one go.\n",
    "\n",
    "col_names = ['HighChol', 'HighBP', 'Smoker', 'HvyAlcoholConsump', 'PhysActivity', 'DiffWalk']\n",
    "a = 3 #number of rows\n",
    "b = 2 #number of columns\n",
    "c = 1 #plot counter\n",
    "\n",
    "fig = plt.figure(figsize=(12,15))\n",
    "for i in col_names:\n",
    "    plt.subplot(a, b, c)\n",
    "    ax = sns.countplot(data=db_hi, x=i, hue='Diabetes_binary', palette='cool')\n",
    "    ax.set(title = '{}'.format(i))\n",
    "    ax.set(xlabel=None)\n",
    "    ax.set_xticklabels(['No', 'Yes'])\n",
    "    ax.legend(['No-diabetes', 'Diabetics'])\n",
    "    c = c + 1"
   ]
  },
  {
   "cell_type": "markdown",
   "id": "a9f12133",
   "metadata": {},
   "source": [
    "### Correlation Matrix"
   ]
  },
  {
   "cell_type": "code",
   "execution_count": 404,
   "id": "69e16751",
   "metadata": {},
   "outputs": [
    {
     "data": {
      "text/html": [
       "<style type=\"text/css\">\n",
       "#T_6016f_row0_col0, #T_6016f_row1_col1, #T_6016f_row2_col2, #T_6016f_row3_col3, #T_6016f_row4_col4, #T_6016f_row5_col5, #T_6016f_row6_col6, #T_6016f_row7_col7, #T_6016f_row8_col8, #T_6016f_row9_col9, #T_6016f_row10_col10, #T_6016f_row11_col11, #T_6016f_row12_col12, #T_6016f_row13_col13, #T_6016f_row14_col14, #T_6016f_row15_col15, #T_6016f_row16_col16, #T_6016f_row17_col17, #T_6016f_row18_col18, #T_6016f_row19_col19, #T_6016f_row20_col20, #T_6016f_row21_col21 {\n",
       "  background-color: #662506;\n",
       "  color: #f1f1f1;\n",
       "}\n",
       "#T_6016f_row0_col1 {\n",
       "  background-color: #fea030;\n",
       "  color: #000000;\n",
       "}\n",
       "#T_6016f_row0_col2, #T_6016f_row7_col0, #T_6016f_row16_col0, #T_6016f_row17_col1, #T_6016f_row17_col4 {\n",
       "  background-color: #fec859;\n",
       "  color: #000000;\n",
       "}\n",
       "#T_6016f_row0_col3, #T_6016f_row3_col7, #T_6016f_row6_col4, #T_6016f_row6_col20, #T_6016f_row10_col16, #T_6016f_row13_col8 {\n",
       "  background-color: #fff1ae;\n",
       "  color: #000000;\n",
       "}\n",
       "#T_6016f_row0_col4 {\n",
       "  background-color: #febd49;\n",
       "  color: #000000;\n",
       "}\n",
       "#T_6016f_row0_col5, #T_6016f_row2_col21, #T_6016f_row7_col4, #T_6016f_row15_col6 {\n",
       "  background-color: #feeca4;\n",
       "  color: #000000;\n",
       "}\n",
       "#T_6016f_row0_col6, #T_6016f_row1_col6, #T_6016f_row1_col15, #T_6016f_row5_col1, #T_6016f_row7_col5, #T_6016f_row11_col8 {\n",
       "  background-color: #fee697;\n",
       "  color: #000000;\n",
       "}\n",
       "#T_6016f_row0_col7, #T_6016f_row1_col7, #T_6016f_row7_col19, #T_6016f_row14_col2, #T_6016f_row16_col13 {\n",
       "  background-color: #fed471;\n",
       "  color: #000000;\n",
       "}\n",
       "#T_6016f_row0_col8, #T_6016f_row16_col3, #T_6016f_row20_col15 {\n",
       "  background-color: #fff9c7;\n",
       "  color: #000000;\n",
       "}\n",
       "#T_6016f_row0_col9, #T_6016f_row8_col7, #T_6016f_row16_col18, #T_6016f_row17_col11, #T_6016f_row21_col4 {\n",
       "  background-color: #fffcd8;\n",
       "  color: #000000;\n",
       "}\n",
       "#T_6016f_row0_col10, #T_6016f_row4_col11, #T_6016f_row8_col16, #T_6016f_row10_col18, #T_6016f_row11_col3, #T_6016f_row14_col11, #T_6016f_row15_col9, #T_6016f_row16_col8, #T_6016f_row19_col11, #T_6016f_row21_col5 {\n",
       "  background-color: #fffddb;\n",
       "  color: #000000;\n",
       "}\n",
       "#T_6016f_row0_col11, #T_6016f_row8_col4, #T_6016f_row9_col18, #T_6016f_row12_col13, #T_6016f_row13_col3, #T_6016f_row13_col12, #T_6016f_row13_col19, #T_6016f_row14_col8, #T_6016f_row14_col9, #T_6016f_row14_col10, #T_6016f_row14_col20, #T_6016f_row14_col21, #T_6016f_row15_col18, #T_6016f_row17_col8, #T_6016f_row20_col5, #T_6016f_row21_col0, #T_6016f_row21_col1, #T_6016f_row21_col2, #T_6016f_row21_col6, #T_6016f_row21_col7, #T_6016f_row21_col14, #T_6016f_row21_col15, #T_6016f_row21_col16, #T_6016f_row21_col17, #T_6016f_row21_col19 {\n",
       "  background-color: #ffffe5;\n",
       "  color: #000000;\n",
       "}\n",
       "#T_6016f_row0_col12, #T_6016f_row1_col5, #T_6016f_row5_col21, #T_6016f_row12_col0, #T_6016f_row13_col4 {\n",
       "  background-color: #feeba2;\n",
       "  color: #000000;\n",
       "}\n",
       "#T_6016f_row0_col13, #T_6016f_row3_col20, #T_6016f_row4_col2, #T_6016f_row9_col17, #T_6016f_row12_col16, #T_6016f_row13_col0, #T_6016f_row19_col5 {\n",
       "  background-color: #fee89d;\n",
       "  color: #000000;\n",
       "}\n",
       "#T_6016f_row0_col14 {\n",
       "  background-color: #f4811d;\n",
       "  color: #f1f1f1;\n",
       "}\n",
       "#T_6016f_row0_col15, #T_6016f_row5_col0, #T_6016f_row6_col15, #T_6016f_row11_col20, #T_6016f_row12_col14, #T_6016f_row14_col19 {\n",
       "  background-color: #fee390;\n",
       "  color: #000000;\n",
       "}\n",
       "#T_6016f_row0_col16, #T_6016f_row1_col2, #T_6016f_row17_col15 {\n",
       "  background-color: #fec14c;\n",
       "  color: #000000;\n",
       "}\n",
       "#T_6016f_row0_col17 {\n",
       "  background-color: #fea736;\n",
       "  color: #000000;\n",
       "}\n",
       "#T_6016f_row0_col18, #T_6016f_row9_col1, #T_6016f_row11_col10, #T_6016f_row18_col6, #T_6016f_row20_col18 {\n",
       "  background-color: #fff7bd;\n",
       "  color: #000000;\n",
       "}\n",
       "#T_6016f_row0_col19, #T_6016f_row4_col1 {\n",
       "  background-color: #fec857;\n",
       "  color: #000000;\n",
       "}\n",
       "#T_6016f_row0_col20, #T_6016f_row19_col10 {\n",
       "  background-color: #fff9c9;\n",
       "  color: #000000;\n",
       "}\n",
       "#T_6016f_row0_col21, #T_6016f_row12_col9, #T_6016f_row14_col3, #T_6016f_row15_col8 {\n",
       "  background-color: #fff8c0;\n",
       "  color: #000000;\n",
       "}\n",
       "#T_6016f_row1_col0 {\n",
       "  background-color: #fe9b2b;\n",
       "  color: #000000;\n",
       "}\n",
       "#T_6016f_row1_col3, #T_6016f_row5_col4, #T_6016f_row5_col8, #T_6016f_row6_col8, #T_6016f_row13_col5, #T_6016f_row14_col12, #T_6016f_row19_col3 {\n",
       "  background-color: #fff3b2;\n",
       "  color: #000000;\n",
       "}\n",
       "#T_6016f_row1_col4, #T_6016f_row1_col16 {\n",
       "  background-color: #fec95b;\n",
       "  color: #000000;\n",
       "}\n",
       "#T_6016f_row1_col8, #T_6016f_row1_col20, #T_6016f_row5_col20, #T_6016f_row9_col6, #T_6016f_row9_col7, #T_6016f_row12_col5, #T_6016f_row18_col2, #T_6016f_row18_col19, #T_6016f_row19_col4 {\n",
       "  background-color: #fff8c1;\n",
       "  color: #000000;\n",
       "}\n",
       "#T_6016f_row1_col9, #T_6016f_row4_col10, #T_6016f_row7_col11, #T_6016f_row8_col0, #T_6016f_row8_col3, #T_6016f_row8_col5, #T_6016f_row9_col2, #T_6016f_row16_col11, #T_6016f_row18_col3, #T_6016f_row20_col3 {\n",
       "  background-color: #fffcd4;\n",
       "  color: #000000;\n",
       "}\n",
       "#T_6016f_row1_col10, #T_6016f_row2_col9, #T_6016f_row8_col1, #T_6016f_row16_col9, #T_6016f_row16_col10, #T_6016f_row17_col9, #T_6016f_row20_col0, #T_6016f_row20_col7 {\n",
       "  background-color: #fffcd7;\n",
       "  color: #000000;\n",
       "}\n",
       "#T_6016f_row1_col11, #T_6016f_row3_col11, #T_6016f_row6_col10, #T_6016f_row10_col2, #T_6016f_row10_col3, #T_6016f_row11_col9, #T_6016f_row20_col4 {\n",
       "  background-color: #fffbd2;\n",
       "  color: #000000;\n",
       "}\n",
       "#T_6016f_row1_col12, #T_6016f_row2_col6, #T_6016f_row2_col12, #T_6016f_row2_col13, #T_6016f_row3_col8, #T_6016f_row5_col13, #T_6016f_row5_col19, #T_6016f_row7_col13 {\n",
       "  background-color: #feeaa0;\n",
       "  color: #000000;\n",
       "}\n",
       "#T_6016f_row1_col13, #T_6016f_row2_col5, #T_6016f_row3_col19, #T_6016f_row8_col12, #T_6016f_row9_col12, #T_6016f_row9_col14, #T_6016f_row10_col12, #T_6016f_row15_col5 {\n",
       "  background-color: #feeaa1;\n",
       "  color: #000000;\n",
       "}\n",
       "#T_6016f_row1_col14 {\n",
       "  background-color: #fd9627;\n",
       "  color: #000000;\n",
       "}\n",
       "#T_6016f_row1_col17 {\n",
       "  background-color: #feb13e;\n",
       "  color: #000000;\n",
       "}\n",
       "#T_6016f_row1_col18, #T_6016f_row3_col5, #T_6016f_row10_col0, #T_6016f_row15_col21, #T_6016f_row20_col11 {\n",
       "  background-color: #fff7be;\n",
       "  color: #000000;\n",
       "}\n",
       "#T_6016f_row1_col19 {\n",
       "  background-color: #feb643;\n",
       "  color: #000000;\n",
       "}\n",
       "#T_6016f_row1_col21, #T_6016f_row4_col20, #T_6016f_row9_col13, #T_6016f_row12_col7, #T_6016f_row15_col12, #T_6016f_row18_col13 {\n",
       "  background-color: #fff4b6;\n",
       "  color: #000000;\n",
       "}\n",
       "#T_6016f_row2_col0, #T_6016f_row8_col21 {\n",
       "  background-color: #feb541;\n",
       "  color: #000000;\n",
       "}\n",
       "#T_6016f_row2_col1, #T_6016f_row4_col0 {\n",
       "  background-color: #feb340;\n",
       "  color: #000000;\n",
       "}\n",
       "#T_6016f_row2_col3, #T_6016f_row3_col6, #T_6016f_row4_col6, #T_6016f_row7_col8, #T_6016f_row9_col0, #T_6016f_row10_col15, #T_6016f_row12_col15, #T_6016f_row15_col20, #T_6016f_row19_col8, #T_6016f_row19_col20 {\n",
       "  background-color: #fff5b8;\n",
       "  color: #000000;\n",
       "}\n",
       "#T_6016f_row2_col4, #T_6016f_row7_col2, #T_6016f_row12_col17 {\n",
       "  background-color: #fee18c;\n",
       "  color: #000000;\n",
       "}\n",
       "#T_6016f_row2_col7, #T_6016f_row3_col17, #T_6016f_row6_col0, #T_6016f_row14_col6, #T_6016f_row17_col13, #T_6016f_row17_col19, #T_6016f_row21_col12 {\n",
       "  background-color: #feda7e;\n",
       "  color: #000000;\n",
       "}\n",
       "#T_6016f_row2_col8, #T_6016f_row7_col20, #T_6016f_row13_col20, #T_6016f_row18_col4, #T_6016f_row19_col9, #T_6016f_row21_col11 {\n",
       "  background-color: #fff4b5;\n",
       "  color: #000000;\n",
       "}\n",
       "#T_6016f_row2_col10, #T_6016f_row2_col11, #T_6016f_row6_col11, #T_6016f_row11_col19, #T_6016f_row17_col20, #T_6016f_row21_col3 {\n",
       "  background-color: #fffbd0;\n",
       "  color: #000000;\n",
       "}\n",
       "#T_6016f_row2_col14 {\n",
       "  background-color: #feab39;\n",
       "  color: #000000;\n",
       "}\n",
       "#T_6016f_row2_col15 {\n",
       "  background-color: #fee392;\n",
       "  color: #000000;\n",
       "}\n",
       "#T_6016f_row2_col16, #T_6016f_row17_col7 {\n",
       "  background-color: #fecf67;\n",
       "  color: #000000;\n",
       "}\n",
       "#T_6016f_row2_col17 {\n",
       "  background-color: #fec34f;\n",
       "  color: #000000;\n",
       "}\n",
       "#T_6016f_row2_col18, #T_6016f_row7_col3, #T_6016f_row10_col4, #T_6016f_row10_col19, #T_6016f_row11_col6, #T_6016f_row15_col11, #T_6016f_row16_col20, #T_6016f_row17_col3, #T_6016f_row18_col11 {\n",
       "  background-color: #fff9c5;\n",
       "  color: #000000;\n",
       "}\n",
       "#T_6016f_row2_col19 {\n",
       "  background-color: #fed069;\n",
       "  color: #000000;\n",
       "}\n",
       "#T_6016f_row2_col20, #T_6016f_row5_col11, #T_6016f_row12_col3, #T_6016f_row13_col7 {\n",
       "  background-color: #fff2b1;\n",
       "  color: #000000;\n",
       "}\n",
       "#T_6016f_row3_col0 {\n",
       "  background-color: #fedc82;\n",
       "  color: #000000;\n",
       "}\n",
       "#T_6016f_row3_col1, #T_6016f_row3_col16, #T_6016f_row17_col2, #T_6016f_row21_col10 {\n",
       "  background-color: #fee493;\n",
       "  color: #000000;\n",
       "}\n",
       "#T_6016f_row3_col2, #T_6016f_row7_col18, #T_6016f_row15_col2 {\n",
       "  background-color: #ffefac;\n",
       "  color: #000000;\n",
       "}\n",
       "#T_6016f_row3_col4, #T_6016f_row4_col21, #T_6016f_row5_col18, #T_6016f_row6_col2, #T_6016f_row6_col12 {\n",
       "  background-color: #ffeea8;\n",
       "  color: #000000;\n",
       "}\n",
       "#T_6016f_row3_col9, #T_6016f_row10_col11, #T_6016f_row11_col0, #T_6016f_row18_col15 {\n",
       "  background-color: #fff8c2;\n",
       "  color: #000000;\n",
       "}\n",
       "#T_6016f_row3_col10, #T_6016f_row4_col3, #T_6016f_row8_col11, #T_6016f_row10_col1, #T_6016f_row20_col13, #T_6016f_row20_col17 {\n",
       "  background-color: #fff8c4;\n",
       "  color: #000000;\n",
       "}\n",
       "#T_6016f_row3_col12, #T_6016f_row6_col1, #T_6016f_row18_col14, #T_6016f_row20_col12 {\n",
       "  background-color: #fedf88;\n",
       "  color: #000000;\n",
       "}\n",
       "#T_6016f_row3_col13, #T_6016f_row8_col13, #T_6016f_row8_col18, #T_6016f_row12_col10 {\n",
       "  background-color: #fff6ba;\n",
       "  color: #000000;\n",
       "}\n",
       "#T_6016f_row3_col14, #T_6016f_row7_col6, #T_6016f_row9_col10, #T_6016f_row14_col13 {\n",
       "  background-color: #fed26d;\n",
       "  color: #000000;\n",
       "}\n",
       "#T_6016f_row3_col15, #T_6016f_row4_col12, #T_6016f_row5_col12, #T_6016f_row7_col21, #T_6016f_row9_col19, #T_6016f_row11_col12 {\n",
       "  background-color: #fff0ad;\n",
       "  color: #000000;\n",
       "}\n",
       "#T_6016f_row3_col18, #T_6016f_row5_col10, #T_6016f_row9_col3, #T_6016f_row11_col2, #T_6016f_row12_col11, #T_6016f_row12_col18, #T_6016f_row16_col21, #T_6016f_row19_col13 {\n",
       "  background-color: #fffacd;\n",
       "  color: #000000;\n",
       "}\n",
       "#T_6016f_row3_col21, #T_6016f_row16_col4, #T_6016f_row19_col16 {\n",
       "  background-color: #fedb80;\n",
       "  color: #000000;\n",
       "}\n",
       "#T_6016f_row4_col5, #T_6016f_row11_col1, #T_6016f_row12_col4, #T_6016f_row13_col21 {\n",
       "  background-color: #fff6b9;\n",
       "  color: #000000;\n",
       "}\n",
       "#T_6016f_row4_col7, #T_6016f_row5_col2, #T_6016f_row6_col5, #T_6016f_row9_col16, #T_6016f_row13_col1, #T_6016f_row18_col16, #T_6016f_row19_col21 {\n",
       "  background-color: #ffeea9;\n",
       "  color: #000000;\n",
       "}\n",
       "#T_6016f_row4_col8, #T_6016f_row4_col18, #T_6016f_row6_col18 {\n",
       "  background-color: #fffaca;\n",
       "  color: #000000;\n",
       "}\n",
       "#T_6016f_row4_col9 {\n",
       "  background-color: #fffee1;\n",
       "  color: #000000;\n",
       "}\n",
       "#T_6016f_row4_col13, #T_6016f_row5_col7, #T_6016f_row8_col10, #T_6016f_row11_col14, #T_6016f_row12_col8, #T_6016f_row12_col19, #T_6016f_row15_col4 {\n",
       "  background-color: #fee596;\n",
       "  color: #000000;\n",
       "}\n",
       "#T_6016f_row4_col14 {\n",
       "  background-color: #fea332;\n",
       "  color: #000000;\n",
       "}\n",
       "#T_6016f_row4_col15, #T_6016f_row16_col6 {\n",
       "  background-color: #fee08a;\n",
       "  color: #000000;\n",
       "}\n",
       "#T_6016f_row4_col16, #T_6016f_row5_col17, #T_6016f_row6_col16 {\n",
       "  background-color: #fecb5f;\n",
       "  color: #000000;\n",
       "}\n",
       "#T_6016f_row4_col17, #T_6016f_row14_col15 {\n",
       "  background-color: #feae3b;\n",
       "  color: #000000;\n",
       "}\n",
       "#T_6016f_row4_col19, #T_6016f_row6_col3, #T_6016f_row6_col9, #T_6016f_row8_col14, #T_6016f_row10_col6, #T_6016f_row19_col18 {\n",
       "  background-color: #fffacb;\n",
       "  color: #000000;\n",
       "}\n",
       "#T_6016f_row5_col3, #T_6016f_row9_col5, #T_6016f_row9_col11, #T_6016f_row15_col10, #T_6016f_row18_col10, #T_6016f_row20_col6 {\n",
       "  background-color: #fffbd3;\n",
       "  color: #000000;\n",
       "}\n",
       "#T_6016f_row5_col6, #T_6016f_row6_col21, #T_6016f_row16_col12, #T_6016f_row18_col12, #T_6016f_row20_col9 {\n",
       "  background-color: #ffefaa;\n",
       "  color: #000000;\n",
       "}\n",
       "#T_6016f_row5_col9, #T_6016f_row20_col2, #T_6016f_row20_col19 {\n",
       "  background-color: #fffedf;\n",
       "  color: #000000;\n",
       "}\n",
       "#T_6016f_row5_col14, #T_6016f_row10_col21, #T_6016f_row19_col14 {\n",
       "  background-color: #febf4b;\n",
       "  color: #000000;\n",
       "}\n",
       "#T_6016f_row5_col15, #T_6016f_row14_col5, #T_6016f_row15_col0, #T_6016f_row18_col8, #T_6016f_row18_col20 {\n",
       "  background-color: #fee28e;\n",
       "  color: #000000;\n",
       "}\n",
       "#T_6016f_row5_col16, #T_6016f_row19_col2 {\n",
       "  background-color: #fed36f;\n",
       "  color: #000000;\n",
       "}\n",
       "#T_6016f_row6_col7, #T_6016f_row9_col8, #T_6016f_row11_col21, #T_6016f_row19_col7 {\n",
       "  background-color: #fed16b;\n",
       "  color: #000000;\n",
       "}\n",
       "#T_6016f_row6_col13, #T_6016f_row8_col9, #T_6016f_row15_col1, #T_6016f_row18_col7 {\n",
       "  background-color: #fee99e;\n",
       "  color: #000000;\n",
       "}\n",
       "#T_6016f_row6_col14, #T_6016f_row19_col0 {\n",
       "  background-color: #feb744;\n",
       "  color: #000000;\n",
       "}\n",
       "#T_6016f_row6_col17, #T_6016f_row13_col14, #T_6016f_row19_col17 {\n",
       "  background-color: #febb47;\n",
       "  color: #000000;\n",
       "}\n",
       "#T_6016f_row6_col19, #T_6016f_row16_col2 {\n",
       "  background-color: #fee79a;\n",
       "  color: #000000;\n",
       "}\n",
       "#T_6016f_row7_col1, #T_6016f_row9_col21, #T_6016f_row10_col8 {\n",
       "  background-color: #fece65;\n",
       "  color: #000000;\n",
       "}\n",
       "#T_6016f_row7_col9, #T_6016f_row7_col10, #T_6016f_row8_col15, #T_6016f_row9_col4, #T_6016f_row13_col10, #T_6016f_row20_col14 {\n",
       "  background-color: #ffface;\n",
       "  color: #000000;\n",
       "}\n",
       "#T_6016f_row7_col12, #T_6016f_row10_col14, #T_6016f_row10_col17, #T_6016f_row11_col5, #T_6016f_row11_col15, #T_6016f_row15_col7, #T_6016f_row18_col1, #T_6016f_row18_col17 {\n",
       "  background-color: #feeca5;\n",
       "  color: #000000;\n",
       "}\n",
       "#T_6016f_row7_col14 {\n",
       "  background-color: #fea231;\n",
       "  color: #000000;\n",
       "}\n",
       "#T_6016f_row7_col15, #T_6016f_row20_col10 {\n",
       "  background-color: #fee595;\n",
       "  color: #000000;\n",
       "}\n",
       "#T_6016f_row7_col16, #T_6016f_row12_col21, #T_6016f_row14_col4 {\n",
       "  background-color: #fec550;\n",
       "  color: #000000;\n",
       "}\n",
       "#T_6016f_row7_col17, #T_6016f_row14_col1 {\n",
       "  background-color: #feb23f;\n",
       "  color: #000000;\n",
       "}\n",
       "#T_6016f_row8_col2, #T_6016f_row21_col13 {\n",
       "  background-color: #fffee0;\n",
       "  color: #000000;\n",
       "}\n",
       "#T_6016f_row8_col6, #T_6016f_row8_col17, #T_6016f_row13_col9, #T_6016f_row15_col3 {\n",
       "  background-color: #fffcd6;\n",
       "  color: #000000;\n",
       "}\n",
       "#T_6016f_row8_col19, #T_6016f_row15_col19 {\n",
       "  background-color: #fffddd;\n",
       "  color: #000000;\n",
       "}\n",
       "#T_6016f_row8_col20, #T_6016f_row14_col7, #T_6016f_row21_col8 {\n",
       "  background-color: #fec652;\n",
       "  color: #000000;\n",
       "}\n",
       "#T_6016f_row9_col15, #T_6016f_row12_col2, #T_6016f_row12_col6, #T_6016f_row13_col2 {\n",
       "  background-color: #fff7bc;\n",
       "  color: #000000;\n",
       "}\n",
       "#T_6016f_row9_col20 {\n",
       "  background-color: #fed778;\n",
       "  color: #000000;\n",
       "}\n",
       "#T_6016f_row10_col5, #T_6016f_row10_col7, #T_6016f_row11_col4, #T_6016f_row11_col7, #T_6016f_row11_col18, #T_6016f_row13_col11, #T_6016f_row19_col15, #T_6016f_row20_col16 {\n",
       "  background-color: #fff9c6;\n",
       "  color: #000000;\n",
       "}\n",
       "#T_6016f_row10_col9, #T_6016f_row12_col20 {\n",
       "  background-color: #fed573;\n",
       "  color: #000000;\n",
       "}\n",
       "#T_6016f_row10_col13, #T_6016f_row13_col6 {\n",
       "  background-color: #fff3b4;\n",
       "  color: #000000;\n",
       "}\n",
       "#T_6016f_row10_col20, #T_6016f_row13_col16, #T_6016f_row15_col13 {\n",
       "  background-color: #fecc61;\n",
       "  color: #000000;\n",
       "}\n",
       "#T_6016f_row11_col13, #T_6016f_row11_col16, #T_6016f_row12_col1, #T_6016f_row16_col19, #T_6016f_row17_col12 {\n",
       "  background-color: #feeda6;\n",
       "  color: #000000;\n",
       "}\n",
       "#T_6016f_row11_col17, #T_6016f_row18_col0, #T_6016f_row18_col5 {\n",
       "  background-color: #fee89b;\n",
       "  color: #000000;\n",
       "}\n",
       "#T_6016f_row13_col15 {\n",
       "  background-color: #fecd63;\n",
       "  color: #000000;\n",
       "}\n",
       "#T_6016f_row13_col17 {\n",
       "  background-color: #feca5d;\n",
       "  color: #000000;\n",
       "}\n",
       "#T_6016f_row13_col18, #T_6016f_row20_col1 {\n",
       "  background-color: #fffdd9;\n",
       "  color: #000000;\n",
       "}\n",
       "#T_6016f_row14_col0 {\n",
       "  background-color: #fb9326;\n",
       "  color: #000000;\n",
       "}\n",
       "#T_6016f_row14_col16 {\n",
       "  background-color: #e56910;\n",
       "  color: #f1f1f1;\n",
       "}\n",
       "#T_6016f_row14_col17, #T_6016f_row20_col21 {\n",
       "  background-color: #ee7416;\n",
       "  color: #f1f1f1;\n",
       "}\n",
       "#T_6016f_row14_col18 {\n",
       "  background-color: #fffbcf;\n",
       "  color: #000000;\n",
       "}\n",
       "#T_6016f_row15_col14 {\n",
       "  background-color: #fd9728;\n",
       "  color: #000000;\n",
       "}\n",
       "#T_6016f_row15_col16 {\n",
       "  background-color: #fc9427;\n",
       "  color: #000000;\n",
       "}\n",
       "#T_6016f_row15_col17, #T_6016f_row19_col1 {\n",
       "  background-color: #fead3a;\n",
       "  color: #000000;\n",
       "}\n",
       "#T_6016f_row16_col1, #T_6016f_row16_col7 {\n",
       "  background-color: #fed676;\n",
       "  color: #000000;\n",
       "}\n",
       "#T_6016f_row16_col5, #T_6016f_row17_col5, #T_6016f_row19_col6, #T_6016f_row21_col18 {\n",
       "  background-color: #fee799;\n",
       "  color: #000000;\n",
       "}\n",
       "#T_6016f_row16_col14 {\n",
       "  background-color: #de610c;\n",
       "  color: #f1f1f1;\n",
       "}\n",
       "#T_6016f_row16_col15 {\n",
       "  background-color: #fe9c2c;\n",
       "  color: #000000;\n",
       "}\n",
       "#T_6016f_row16_col17 {\n",
       "  background-color: #ed7215;\n",
       "  color: #f1f1f1;\n",
       "}\n",
       "#T_6016f_row17_col0 {\n",
       "  background-color: #feba46;\n",
       "  color: #000000;\n",
       "}\n",
       "#T_6016f_row17_col6 {\n",
       "  background-color: #fed97c;\n",
       "  color: #000000;\n",
       "}\n",
       "#T_6016f_row17_col10, #T_6016f_row17_col21 {\n",
       "  background-color: #fffddc;\n",
       "  color: #000000;\n",
       "}\n",
       "#T_6016f_row17_col14 {\n",
       "  background-color: #ec7014;\n",
       "  color: #f1f1f1;\n",
       "}\n",
       "#T_6016f_row17_col16 {\n",
       "  background-color: #f07818;\n",
       "  color: #f1f1f1;\n",
       "}\n",
       "#T_6016f_row17_col18 {\n",
       "  background-color: #ffffe4;\n",
       "  color: #000000;\n",
       "}\n",
       "#T_6016f_row18_col9 {\n",
       "  background-color: #fffee2;\n",
       "  color: #000000;\n",
       "}\n",
       "#T_6016f_row18_col21 {\n",
       "  background-color: #febe4a;\n",
       "  color: #000000;\n",
       "}\n",
       "#T_6016f_row19_col12 {\n",
       "  background-color: #fed87a;\n",
       "  color: #000000;\n",
       "}\n",
       "#T_6016f_row20_col8 {\n",
       "  background-color: #fec754;\n",
       "  color: #000000;\n",
       "}\n",
       "#T_6016f_row21_col9 {\n",
       "  background-color: #fff1b0;\n",
       "  color: #000000;\n",
       "}\n",
       "#T_6016f_row21_col20 {\n",
       "  background-color: #f27f1b;\n",
       "  color: #f1f1f1;\n",
       "}\n",
       "</style>\n",
       "<table id=\"T_6016f\">\n",
       "  <thead>\n",
       "    <tr>\n",
       "      <th class=\"blank level0\" >&nbsp;</th>\n",
       "      <th id=\"T_6016f_level0_col0\" class=\"col_heading level0 col0\" >Diabetes_binary</th>\n",
       "      <th id=\"T_6016f_level0_col1\" class=\"col_heading level0 col1\" >HighBP</th>\n",
       "      <th id=\"T_6016f_level0_col2\" class=\"col_heading level0 col2\" >HighChol</th>\n",
       "      <th id=\"T_6016f_level0_col3\" class=\"col_heading level0 col3\" >CholCheck</th>\n",
       "      <th id=\"T_6016f_level0_col4\" class=\"col_heading level0 col4\" >BMI</th>\n",
       "      <th id=\"T_6016f_level0_col5\" class=\"col_heading level0 col5\" >Smoker</th>\n",
       "      <th id=\"T_6016f_level0_col6\" class=\"col_heading level0 col6\" >Stroke</th>\n",
       "      <th id=\"T_6016f_level0_col7\" class=\"col_heading level0 col7\" >HeartDiseaseorAttack</th>\n",
       "      <th id=\"T_6016f_level0_col8\" class=\"col_heading level0 col8\" >PhysActivity</th>\n",
       "      <th id=\"T_6016f_level0_col9\" class=\"col_heading level0 col9\" >Fruits</th>\n",
       "      <th id=\"T_6016f_level0_col10\" class=\"col_heading level0 col10\" >Veggies</th>\n",
       "      <th id=\"T_6016f_level0_col11\" class=\"col_heading level0 col11\" >HvyAlcoholConsump</th>\n",
       "      <th id=\"T_6016f_level0_col12\" class=\"col_heading level0 col12\" >AnyHealthcare</th>\n",
       "      <th id=\"T_6016f_level0_col13\" class=\"col_heading level0 col13\" >NoDocbcCost</th>\n",
       "      <th id=\"T_6016f_level0_col14\" class=\"col_heading level0 col14\" >GenHlth</th>\n",
       "      <th id=\"T_6016f_level0_col15\" class=\"col_heading level0 col15\" >MentHlth</th>\n",
       "      <th id=\"T_6016f_level0_col16\" class=\"col_heading level0 col16\" >PhysHlth</th>\n",
       "      <th id=\"T_6016f_level0_col17\" class=\"col_heading level0 col17\" >DiffWalk</th>\n",
       "      <th id=\"T_6016f_level0_col18\" class=\"col_heading level0 col18\" >Sex</th>\n",
       "      <th id=\"T_6016f_level0_col19\" class=\"col_heading level0 col19\" >Age</th>\n",
       "      <th id=\"T_6016f_level0_col20\" class=\"col_heading level0 col20\" >Education</th>\n",
       "      <th id=\"T_6016f_level0_col21\" class=\"col_heading level0 col21\" >Income</th>\n",
       "    </tr>\n",
       "  </thead>\n",
       "  <tbody>\n",
       "    <tr>\n",
       "      <th id=\"T_6016f_level0_row0\" class=\"row_heading level0 row0\" >Diabetes_binary</th>\n",
       "      <td id=\"T_6016f_row0_col0\" class=\"data row0 col0\" >1.000000</td>\n",
       "      <td id=\"T_6016f_row0_col1\" class=\"data row0 col1\" >0.381516</td>\n",
       "      <td id=\"T_6016f_row0_col2\" class=\"data row0 col2\" >0.289213</td>\n",
       "      <td id=\"T_6016f_row0_col3\" class=\"data row0 col3\" >0.115382</td>\n",
       "      <td id=\"T_6016f_row0_col4\" class=\"data row0 col4\" >0.293373</td>\n",
       "      <td id=\"T_6016f_row0_col5\" class=\"data row0 col5\" >0.085999</td>\n",
       "      <td id=\"T_6016f_row0_col6\" class=\"data row0 col6\" >0.125427</td>\n",
       "      <td id=\"T_6016f_row0_col7\" class=\"data row0 col7\" >0.211523</td>\n",
       "      <td id=\"T_6016f_row0_col8\" class=\"data row0 col8\" >-0.158666</td>\n",
       "      <td id=\"T_6016f_row0_col9\" class=\"data row0 col9\" >-0.054077</td>\n",
       "      <td id=\"T_6016f_row0_col10\" class=\"data row0 col10\" >-0.079293</td>\n",
       "      <td id=\"T_6016f_row0_col11\" class=\"data row0 col11\" >-0.094853</td>\n",
       "      <td id=\"T_6016f_row0_col12\" class=\"data row0 col12\" >0.023191</td>\n",
       "      <td id=\"T_6016f_row0_col13\" class=\"data row0 col13\" >0.040977</td>\n",
       "      <td id=\"T_6016f_row0_col14\" class=\"data row0 col14\" >0.407612</td>\n",
       "      <td id=\"T_6016f_row0_col15\" class=\"data row0 col15\" >0.087029</td>\n",
       "      <td id=\"T_6016f_row0_col16\" class=\"data row0 col16\" >0.213081</td>\n",
       "      <td id=\"T_6016f_row0_col17\" class=\"data row0 col17\" >0.272646</td>\n",
       "      <td id=\"T_6016f_row0_col18\" class=\"data row0 col18\" >0.044413</td>\n",
       "      <td id=\"T_6016f_row0_col19\" class=\"data row0 col19\" >0.278738</td>\n",
       "      <td id=\"T_6016f_row0_col20\" class=\"data row0 col20\" >-0.170481</td>\n",
       "      <td id=\"T_6016f_row0_col21\" class=\"data row0 col21\" >-0.224449</td>\n",
       "    </tr>\n",
       "    <tr>\n",
       "      <th id=\"T_6016f_level0_row1\" class=\"row_heading level0 row1\" >HighBP</th>\n",
       "      <td id=\"T_6016f_row1_col0\" class=\"data row1 col0\" >0.381516</td>\n",
       "      <td id=\"T_6016f_row1_col1\" class=\"data row1 col1\" >1.000000</td>\n",
       "      <td id=\"T_6016f_row1_col2\" class=\"data row1 col2\" >0.316515</td>\n",
       "      <td id=\"T_6016f_row1_col3\" class=\"data row1 col3\" >0.103283</td>\n",
       "      <td id=\"T_6016f_row1_col4\" class=\"data row1 col4\" >0.241019</td>\n",
       "      <td id=\"T_6016f_row1_col5\" class=\"data row1 col5\" >0.087438</td>\n",
       "      <td id=\"T_6016f_row1_col6\" class=\"data row1 col6\" >0.129060</td>\n",
       "      <td id=\"T_6016f_row1_col7\" class=\"data row1 col7\" >0.210750</td>\n",
       "      <td id=\"T_6016f_row1_col8\" class=\"data row1 col8\" >-0.136102</td>\n",
       "      <td id=\"T_6016f_row1_col9\" class=\"data row1 col9\" >-0.040852</td>\n",
       "      <td id=\"T_6016f_row1_col10\" class=\"data row1 col10\" >-0.066624</td>\n",
       "      <td id=\"T_6016f_row1_col11\" class=\"data row1 col11\" >-0.027030</td>\n",
       "      <td id=\"T_6016f_row1_col12\" class=\"data row1 col12\" >0.035764</td>\n",
       "      <td id=\"T_6016f_row1_col13\" class=\"data row1 col13\" >0.026517</td>\n",
       "      <td id=\"T_6016f_row1_col14\" class=\"data row1 col14\" >0.320540</td>\n",
       "      <td id=\"T_6016f_row1_col15\" class=\"data row1 col15\" >0.064294</td>\n",
       "      <td id=\"T_6016f_row1_col16\" class=\"data row1 col16\" >0.173922</td>\n",
       "      <td id=\"T_6016f_row1_col17\" class=\"data row1 col17\" >0.234784</td>\n",
       "      <td id=\"T_6016f_row1_col18\" class=\"data row1 col18\" >0.040819</td>\n",
       "      <td id=\"T_6016f_row1_col19\" class=\"data row1 col19\" >0.338132</td>\n",
       "      <td id=\"T_6016f_row1_col20\" class=\"data row1 col20\" >-0.141643</td>\n",
       "      <td id=\"T_6016f_row1_col21\" class=\"data row1 col21\" >-0.187657</td>\n",
       "    </tr>\n",
       "    <tr>\n",
       "      <th id=\"T_6016f_level0_row2\" class=\"row_heading level0 row2\" >HighChol</th>\n",
       "      <td id=\"T_6016f_row2_col0\" class=\"data row2 col0\" >0.289213</td>\n",
       "      <td id=\"T_6016f_row2_col1\" class=\"data row2 col1\" >0.316515</td>\n",
       "      <td id=\"T_6016f_row2_col2\" class=\"data row2 col2\" >1.000000</td>\n",
       "      <td id=\"T_6016f_row2_col3\" class=\"data row2 col3\" >0.085981</td>\n",
       "      <td id=\"T_6016f_row2_col4\" class=\"data row2 col4\" >0.131309</td>\n",
       "      <td id=\"T_6016f_row2_col5\" class=\"data row2 col5\" >0.093398</td>\n",
       "      <td id=\"T_6016f_row2_col6\" class=\"data row2 col6\" >0.099786</td>\n",
       "      <td id=\"T_6016f_row2_col7\" class=\"data row2 col7\" >0.181187</td>\n",
       "      <td id=\"T_6016f_row2_col8\" class=\"data row2 col8\" >-0.090453</td>\n",
       "      <td id=\"T_6016f_row2_col9\" class=\"data row2 col9\" >-0.047384</td>\n",
       "      <td id=\"T_6016f_row2_col10\" class=\"data row2 col10\" >-0.042836</td>\n",
       "      <td id=\"T_6016f_row2_col11\" class=\"data row2 col11\" >-0.025443</td>\n",
       "      <td id=\"T_6016f_row2_col12\" class=\"data row2 col12\" >0.031532</td>\n",
       "      <td id=\"T_6016f_row2_col13\" class=\"data row2 col13\" >0.033199</td>\n",
       "      <td id=\"T_6016f_row2_col14\" class=\"data row2 col14\" >0.237778</td>\n",
       "      <td id=\"T_6016f_row2_col15\" class=\"data row2 col15\" >0.083881</td>\n",
       "      <td id=\"T_6016f_row2_col16\" class=\"data row2 col16\" >0.142610</td>\n",
       "      <td id=\"T_6016f_row2_col17\" class=\"data row2 col17\" >0.162043</td>\n",
       "      <td id=\"T_6016f_row2_col18\" class=\"data row2 col18\" >0.017324</td>\n",
       "      <td id=\"T_6016f_row2_col19\" class=\"data row2 col19\" >0.240338</td>\n",
       "      <td id=\"T_6016f_row2_col20\" class=\"data row2 col20\" >-0.084386</td>\n",
       "      <td id=\"T_6016f_row2_col21\" class=\"data row2 col21\" >-0.107777</td>\n",
       "    </tr>\n",
       "    <tr>\n",
       "      <th id=\"T_6016f_level0_row3\" class=\"row_heading level0 row3\" >CholCheck</th>\n",
       "      <td id=\"T_6016f_row3_col0\" class=\"data row3 col0\" >0.115382</td>\n",
       "      <td id=\"T_6016f_row3_col1\" class=\"data row3 col1\" >0.103283</td>\n",
       "      <td id=\"T_6016f_row3_col2\" class=\"data row3 col2\" >0.085981</td>\n",
       "      <td id=\"T_6016f_row3_col3\" class=\"data row3 col3\" >1.000000</td>\n",
       "      <td id=\"T_6016f_row3_col4\" class=\"data row3 col4\" >0.045648</td>\n",
       "      <td id=\"T_6016f_row3_col5\" class=\"data row3 col5\" >-0.004331</td>\n",
       "      <td id=\"T_6016f_row3_col6\" class=\"data row3 col6\" >0.022529</td>\n",
       "      <td id=\"T_6016f_row3_col7\" class=\"data row3 col7\" >0.043497</td>\n",
       "      <td id=\"T_6016f_row3_col8\" class=\"data row3 col8\" >-0.008249</td>\n",
       "      <td id=\"T_6016f_row3_col9\" class=\"data row3 col9\" >0.017384</td>\n",
       "      <td id=\"T_6016f_row3_col10\" class=\"data row3 col10\" >0.000349</td>\n",
       "      <td id=\"T_6016f_row3_col11\" class=\"data row3 col11\" >-0.027146</td>\n",
       "      <td id=\"T_6016f_row3_col12\" class=\"data row3 col12\" >0.106800</td>\n",
       "      <td id=\"T_6016f_row3_col13\" class=\"data row3 col13\" >-0.062669</td>\n",
       "      <td id=\"T_6016f_row3_col14\" class=\"data row3 col14\" >0.059213</td>\n",
       "      <td id=\"T_6016f_row3_col15\" class=\"data row3 col15\" >-0.010660</td>\n",
       "      <td id=\"T_6016f_row3_col16\" class=\"data row3 col16\" >0.034540</td>\n",
       "      <td id=\"T_6016f_row3_col17\" class=\"data row3 col17\" >0.044430</td>\n",
       "      <td id=\"T_6016f_row3_col18\" class=\"data row3 col18\" >-0.007991</td>\n",
       "      <td id=\"T_6016f_row3_col19\" class=\"data row3 col19\" >0.101743</td>\n",
       "      <td id=\"T_6016f_row3_col20\" class=\"data row3 col20\" >-0.008695</td>\n",
       "      <td id=\"T_6016f_row3_col21\" class=\"data row3 col21\" >0.007550</td>\n",
       "    </tr>\n",
       "    <tr>\n",
       "      <th id=\"T_6016f_level0_row4\" class=\"row_heading level0 row4\" >BMI</th>\n",
       "      <td id=\"T_6016f_row4_col0\" class=\"data row4 col0\" >0.293373</td>\n",
       "      <td id=\"T_6016f_row4_col1\" class=\"data row4 col1\" >0.241019</td>\n",
       "      <td id=\"T_6016f_row4_col2\" class=\"data row4 col2\" >0.131309</td>\n",
       "      <td id=\"T_6016f_row4_col3\" class=\"data row4 col3\" >0.045648</td>\n",
       "      <td id=\"T_6016f_row4_col4\" class=\"data row4 col4\" >1.000000</td>\n",
       "      <td id=\"T_6016f_row4_col5\" class=\"data row4 col5\" >0.011551</td>\n",
       "      <td id=\"T_6016f_row4_col6\" class=\"data row4 col6\" >0.022931</td>\n",
       "      <td id=\"T_6016f_row4_col7\" class=\"data row4 col7\" >0.060355</td>\n",
       "      <td id=\"T_6016f_row4_col8\" class=\"data row4 col8\" >-0.170936</td>\n",
       "      <td id=\"T_6016f_row4_col9\" class=\"data row4 col9\" >-0.084505</td>\n",
       "      <td id=\"T_6016f_row4_col10\" class=\"data row4 col10\" >-0.056528</td>\n",
       "      <td id=\"T_6016f_row4_col11\" class=\"data row4 col11\" >-0.058232</td>\n",
       "      <td id=\"T_6016f_row4_col12\" class=\"data row4 col12\" >-0.013417</td>\n",
       "      <td id=\"T_6016f_row4_col13\" class=\"data row4 col13\" >0.065832</td>\n",
       "      <td id=\"T_6016f_row4_col14\" class=\"data row4 col14\" >0.267888</td>\n",
       "      <td id=\"T_6016f_row4_col15\" class=\"data row4 col15\" >0.104682</td>\n",
       "      <td id=\"T_6016f_row4_col16\" class=\"data row4 col16\" >0.161862</td>\n",
       "      <td id=\"T_6016f_row4_col17\" class=\"data row4 col17\" >0.246094</td>\n",
       "      <td id=\"T_6016f_row4_col18\" class=\"data row4 col18\" >0.000827</td>\n",
       "      <td id=\"T_6016f_row4_col19\" class=\"data row4 col19\" >-0.038648</td>\n",
       "      <td id=\"T_6016f_row4_col20\" class=\"data row4 col20\" >-0.100233</td>\n",
       "      <td id=\"T_6016f_row4_col21\" class=\"data row4 col21\" >-0.124878</td>\n",
       "    </tr>\n",
       "    <tr>\n",
       "      <th id=\"T_6016f_level0_row5\" class=\"row_heading level0 row5\" >Smoker</th>\n",
       "      <td id=\"T_6016f_row5_col0\" class=\"data row5 col0\" >0.085999</td>\n",
       "      <td id=\"T_6016f_row5_col1\" class=\"data row5 col1\" >0.087438</td>\n",
       "      <td id=\"T_6016f_row5_col2\" class=\"data row5 col2\" >0.093398</td>\n",
       "      <td id=\"T_6016f_row5_col3\" class=\"data row5 col3\" >-0.004331</td>\n",
       "      <td id=\"T_6016f_row5_col4\" class=\"data row5 col4\" >0.011551</td>\n",
       "      <td id=\"T_6016f_row5_col5\" class=\"data row5 col5\" >1.000000</td>\n",
       "      <td id=\"T_6016f_row5_col6\" class=\"data row5 col6\" >0.064658</td>\n",
       "      <td id=\"T_6016f_row5_col7\" class=\"data row5 col7\" >0.124418</td>\n",
       "      <td id=\"T_6016f_row5_col8\" class=\"data row5 col8\" >-0.079823</td>\n",
       "      <td id=\"T_6016f_row5_col9\" class=\"data row5 col9\" >-0.074811</td>\n",
       "      <td id=\"T_6016f_row5_col10\" class=\"data row5 col10\" >-0.029926</td>\n",
       "      <td id=\"T_6016f_row5_col11\" class=\"data row5 col11\" >0.077835</td>\n",
       "      <td id=\"T_6016f_row5_col12\" class=\"data row5 col12\" >-0.012939</td>\n",
       "      <td id=\"T_6016f_row5_col13\" class=\"data row5 col13\" >0.035799</td>\n",
       "      <td id=\"T_6016f_row5_col14\" class=\"data row5 col14\" >0.152416</td>\n",
       "      <td id=\"T_6016f_row5_col15\" class=\"data row5 col15\" >0.091257</td>\n",
       "      <td id=\"T_6016f_row5_col16\" class=\"data row5 col16\" >0.120698</td>\n",
       "      <td id=\"T_6016f_row5_col17\" class=\"data row5 col17\" >0.119789</td>\n",
       "      <td id=\"T_6016f_row5_col18\" class=\"data row5 col18\" >0.112125</td>\n",
       "      <td id=\"T_6016f_row5_col19\" class=\"data row5 col19\" >0.105424</td>\n",
       "      <td id=\"T_6016f_row5_col20\" class=\"data row5 col20\" >-0.140966</td>\n",
       "      <td id=\"T_6016f_row5_col21\" class=\"data row5 col21\" >-0.104725</td>\n",
       "    </tr>\n",
       "    <tr>\n",
       "      <th id=\"T_6016f_level0_row6\" class=\"row_heading level0 row6\" >Stroke</th>\n",
       "      <td id=\"T_6016f_row6_col0\" class=\"data row6 col0\" >0.125427</td>\n",
       "      <td id=\"T_6016f_row6_col1\" class=\"data row6 col1\" >0.129060</td>\n",
       "      <td id=\"T_6016f_row6_col2\" class=\"data row6 col2\" >0.099786</td>\n",
       "      <td id=\"T_6016f_row6_col3\" class=\"data row6 col3\" >0.022529</td>\n",
       "      <td id=\"T_6016f_row6_col4\" class=\"data row6 col4\" >0.022931</td>\n",
       "      <td id=\"T_6016f_row6_col5\" class=\"data row6 col5\" >0.064658</td>\n",
       "      <td id=\"T_6016f_row6_col6\" class=\"data row6 col6\" >1.000000</td>\n",
       "      <td id=\"T_6016f_row6_col7\" class=\"data row6 col7\" >0.223394</td>\n",
       "      <td id=\"T_6016f_row6_col8\" class=\"data row6 col8\" >-0.079985</td>\n",
       "      <td id=\"T_6016f_row6_col9\" class=\"data row6 col9\" >-0.008996</td>\n",
       "      <td id=\"T_6016f_row6_col10\" class=\"data row6 col10\" >-0.047601</td>\n",
       "      <td id=\"T_6016f_row6_col11\" class=\"data row6 col11\" >-0.023395</td>\n",
       "      <td id=\"T_6016f_row6_col12\" class=\"data row6 col12\" >0.006484</td>\n",
       "      <td id=\"T_6016f_row6_col13\" class=\"data row6 col13\" >0.036198</td>\n",
       "      <td id=\"T_6016f_row6_col14\" class=\"data row6 col14\" >0.189447</td>\n",
       "      <td id=\"T_6016f_row6_col15\" class=\"data row6 col15\" >0.087303</td>\n",
       "      <td id=\"T_6016f_row6_col16\" class=\"data row6 col16\" >0.164488</td>\n",
       "      <td id=\"T_6016f_row6_col17\" class=\"data row6 col17\" >0.192266</td>\n",
       "      <td id=\"T_6016f_row6_col18\" class=\"data row6 col18\" >0.003822</td>\n",
       "      <td id=\"T_6016f_row6_col19\" class=\"data row6 col19\" >0.123879</td>\n",
       "      <td id=\"T_6016f_row6_col20\" class=\"data row6 col20\" >-0.073926</td>\n",
       "      <td id=\"T_6016f_row6_col21\" class=\"data row6 col21\" >-0.136577</td>\n",
       "    </tr>\n",
       "    <tr>\n",
       "      <th id=\"T_6016f_level0_row7\" class=\"row_heading level0 row7\" >HeartDiseaseorAttack</th>\n",
       "      <td id=\"T_6016f_row7_col0\" class=\"data row7 col0\" >0.211523</td>\n",
       "      <td id=\"T_6016f_row7_col1\" class=\"data row7 col1\" >0.210750</td>\n",
       "      <td id=\"T_6016f_row7_col2\" class=\"data row7 col2\" >0.181187</td>\n",
       "      <td id=\"T_6016f_row7_col3\" class=\"data row7 col3\" >0.043497</td>\n",
       "      <td id=\"T_6016f_row7_col4\" class=\"data row7 col4\" >0.060355</td>\n",
       "      <td id=\"T_6016f_row7_col5\" class=\"data row7 col5\" >0.124418</td>\n",
       "      <td id=\"T_6016f_row7_col6\" class=\"data row7 col6\" >0.223394</td>\n",
       "      <td id=\"T_6016f_row7_col7\" class=\"data row7 col7\" >1.000000</td>\n",
       "      <td id=\"T_6016f_row7_col8\" class=\"data row7 col8\" >-0.098223</td>\n",
       "      <td id=\"T_6016f_row7_col9\" class=\"data row7 col9\" >-0.019436</td>\n",
       "      <td id=\"T_6016f_row7_col10\" class=\"data row7 col10\" >-0.036315</td>\n",
       "      <td id=\"T_6016f_row7_col11\" class=\"data row7 col11\" >-0.037130</td>\n",
       "      <td id=\"T_6016f_row7_col12\" class=\"data row7 col12\" >0.015687</td>\n",
       "      <td id=\"T_6016f_row7_col13\" class=\"data row7 col13\" >0.036029</td>\n",
       "      <td id=\"T_6016f_row7_col14\" class=\"data row7 col14\" >0.275868</td>\n",
       "      <td id=\"T_6016f_row7_col15\" class=\"data row7 col15\" >0.075057</td>\n",
       "      <td id=\"T_6016f_row7_col16\" class=\"data row7 col16\" >0.198416</td>\n",
       "      <td id=\"T_6016f_row7_col17\" class=\"data row7 col17\" >0.232611</td>\n",
       "      <td id=\"T_6016f_row7_col18\" class=\"data row7 col18\" >0.098161</td>\n",
       "      <td id=\"T_6016f_row7_col19\" class=\"data row7 col19\" >0.221878</td>\n",
       "      <td id=\"T_6016f_row7_col20\" class=\"data row7 col20\" >-0.096559</td>\n",
       "      <td id=\"T_6016f_row7_col21\" class=\"data row7 col21\" >-0.146748</td>\n",
       "    </tr>\n",
       "    <tr>\n",
       "      <th id=\"T_6016f_level0_row8\" class=\"row_heading level0 row8\" >PhysActivity</th>\n",
       "      <td id=\"T_6016f_row8_col0\" class=\"data row8 col0\" >-0.158666</td>\n",
       "      <td id=\"T_6016f_row8_col1\" class=\"data row8 col1\" >-0.136102</td>\n",
       "      <td id=\"T_6016f_row8_col2\" class=\"data row8 col2\" >-0.090453</td>\n",
       "      <td id=\"T_6016f_row8_col3\" class=\"data row8 col3\" >-0.008249</td>\n",
       "      <td id=\"T_6016f_row8_col4\" class=\"data row8 col4\" >-0.170936</td>\n",
       "      <td id=\"T_6016f_row8_col5\" class=\"data row8 col5\" >-0.079823</td>\n",
       "      <td id=\"T_6016f_row8_col6\" class=\"data row8 col6\" >-0.079985</td>\n",
       "      <td id=\"T_6016f_row8_col7\" class=\"data row8 col7\" >-0.098223</td>\n",
       "      <td id=\"T_6016f_row8_col8\" class=\"data row8 col8\" >1.000000</td>\n",
       "      <td id=\"T_6016f_row8_col9\" class=\"data row8 col9\" >0.133813</td>\n",
       "      <td id=\"T_6016f_row8_col10\" class=\"data row8 col10\" >0.149322</td>\n",
       "      <td id=\"T_6016f_row8_col11\" class=\"data row8 col11\" >0.019111</td>\n",
       "      <td id=\"T_6016f_row8_col12\" class=\"data row8 col12\" >0.027089</td>\n",
       "      <td id=\"T_6016f_row8_col13\" class=\"data row8 col13\" >-0.063302</td>\n",
       "      <td id=\"T_6016f_row8_col14\" class=\"data row8 col14\" >-0.273548</td>\n",
       "      <td id=\"T_6016f_row8_col15\" class=\"data row8 col15\" >-0.130090</td>\n",
       "      <td id=\"T_6016f_row8_col16\" class=\"data row8 col16\" >-0.234500</td>\n",
       "      <td id=\"T_6016f_row8_col17\" class=\"data row8 col17\" >-0.276868</td>\n",
       "      <td id=\"T_6016f_row8_col18\" class=\"data row8 col18\" >0.051753</td>\n",
       "      <td id=\"T_6016f_row8_col19\" class=\"data row8 col19\" >-0.100753</td>\n",
       "      <td id=\"T_6016f_row8_col20\" class=\"data row8 col20\" >0.190271</td>\n",
       "      <td id=\"T_6016f_row8_col21\" class=\"data row8 col21\" >0.196551</td>\n",
       "    </tr>\n",
       "    <tr>\n",
       "      <th id=\"T_6016f_level0_row9\" class=\"row_heading level0 row9\" >Fruits</th>\n",
       "      <td id=\"T_6016f_row9_col0\" class=\"data row9 col0\" >-0.054077</td>\n",
       "      <td id=\"T_6016f_row9_col1\" class=\"data row9 col1\" >-0.040852</td>\n",
       "      <td id=\"T_6016f_row9_col2\" class=\"data row9 col2\" >-0.047384</td>\n",
       "      <td id=\"T_6016f_row9_col3\" class=\"data row9 col3\" >0.017384</td>\n",
       "      <td id=\"T_6016f_row9_col4\" class=\"data row9 col4\" >-0.084505</td>\n",
       "      <td id=\"T_6016f_row9_col5\" class=\"data row9 col5\" >-0.074811</td>\n",
       "      <td id=\"T_6016f_row9_col6\" class=\"data row9 col6\" >-0.008996</td>\n",
       "      <td id=\"T_6016f_row9_col7\" class=\"data row9 col7\" >-0.019436</td>\n",
       "      <td id=\"T_6016f_row9_col8\" class=\"data row9 col8\" >0.133813</td>\n",
       "      <td id=\"T_6016f_row9_col9\" class=\"data row9 col9\" >1.000000</td>\n",
       "      <td id=\"T_6016f_row9_col10\" class=\"data row9 col10\" >0.238605</td>\n",
       "      <td id=\"T_6016f_row9_col11\" class=\"data row9 col11\" >-0.033246</td>\n",
       "      <td id=\"T_6016f_row9_col12\" class=\"data row9 col12\" >0.029385</td>\n",
       "      <td id=\"T_6016f_row9_col13\" class=\"data row9 col13\" >-0.045843</td>\n",
       "      <td id=\"T_6016f_row9_col14\" class=\"data row9 col14\" >-0.098687</td>\n",
       "      <td id=\"T_6016f_row9_col15\" class=\"data row9 col15\" >-0.062102</td>\n",
       "      <td id=\"T_6016f_row9_col16\" class=\"data row9 col16\" >-0.048572</td>\n",
       "      <td id=\"T_6016f_row9_col17\" class=\"data row9 col17\" >-0.050784</td>\n",
       "      <td id=\"T_6016f_row9_col18\" class=\"data row9 col18\" >-0.088723</td>\n",
       "      <td id=\"T_6016f_row9_col19\" class=\"data row9 col19\" >0.061096</td>\n",
       "      <td id=\"T_6016f_row9_col20\" class=\"data row9 col20\" >0.098715</td>\n",
       "      <td id=\"T_6016f_row9_col21\" class=\"data row9 col21\" >0.079009</td>\n",
       "    </tr>\n",
       "    <tr>\n",
       "      <th id=\"T_6016f_level0_row10\" class=\"row_heading level0 row10\" >Veggies</th>\n",
       "      <td id=\"T_6016f_row10_col0\" class=\"data row10 col0\" >-0.079293</td>\n",
       "      <td id=\"T_6016f_row10_col1\" class=\"data row10 col1\" >-0.066624</td>\n",
       "      <td id=\"T_6016f_row10_col2\" class=\"data row10 col2\" >-0.042836</td>\n",
       "      <td id=\"T_6016f_row10_col3\" class=\"data row10 col3\" >0.000349</td>\n",
       "      <td id=\"T_6016f_row10_col4\" class=\"data row10 col4\" >-0.056528</td>\n",
       "      <td id=\"T_6016f_row10_col5\" class=\"data row10 col5\" >-0.029926</td>\n",
       "      <td id=\"T_6016f_row10_col6\" class=\"data row10 col6\" >-0.047601</td>\n",
       "      <td id=\"T_6016f_row10_col7\" class=\"data row10 col7\" >-0.036315</td>\n",
       "      <td id=\"T_6016f_row10_col8\" class=\"data row10 col8\" >0.149322</td>\n",
       "      <td id=\"T_6016f_row10_col9\" class=\"data row10 col9\" >0.238605</td>\n",
       "      <td id=\"T_6016f_row10_col10\" class=\"data row10 col10\" >1.000000</td>\n",
       "      <td id=\"T_6016f_row10_col11\" class=\"data row10 col11\" >0.022090</td>\n",
       "      <td id=\"T_6016f_row10_col12\" class=\"data row10 col12\" >0.029152</td>\n",
       "      <td id=\"T_6016f_row10_col13\" class=\"data row10 col13\" >-0.037146</td>\n",
       "      <td id=\"T_6016f_row10_col14\" class=\"data row10 col14\" >-0.115795</td>\n",
       "      <td id=\"T_6016f_row10_col15\" class=\"data row10 col15\" >-0.052359</td>\n",
       "      <td id=\"T_6016f_row10_col16\" class=\"data row10 col16\" >-0.066896</td>\n",
       "      <td id=\"T_6016f_row10_col17\" class=\"data row10 col17\" >-0.084072</td>\n",
       "      <td id=\"T_6016f_row10_col18\" class=\"data row10 col18\" >-0.052604</td>\n",
       "      <td id=\"T_6016f_row10_col19\" class=\"data row10 col19\" >-0.018893</td>\n",
       "      <td id=\"T_6016f_row10_col20\" class=\"data row10 col20\" >0.152512</td>\n",
       "      <td id=\"T_6016f_row10_col21\" class=\"data row10 col21\" >0.154899</td>\n",
       "    </tr>\n",
       "    <tr>\n",
       "      <th id=\"T_6016f_level0_row11\" class=\"row_heading level0 row11\" >HvyAlcoholConsump</th>\n",
       "      <td id=\"T_6016f_row11_col0\" class=\"data row11 col0\" >-0.094853</td>\n",
       "      <td id=\"T_6016f_row11_col1\" class=\"data row11 col1\" >-0.027030</td>\n",
       "      <td id=\"T_6016f_row11_col2\" class=\"data row11 col2\" >-0.025443</td>\n",
       "      <td id=\"T_6016f_row11_col3\" class=\"data row11 col3\" >-0.027146</td>\n",
       "      <td id=\"T_6016f_row11_col4\" class=\"data row11 col4\" >-0.058232</td>\n",
       "      <td id=\"T_6016f_row11_col5\" class=\"data row11 col5\" >0.077835</td>\n",
       "      <td id=\"T_6016f_row11_col6\" class=\"data row11 col6\" >-0.023395</td>\n",
       "      <td id=\"T_6016f_row11_col7\" class=\"data row11 col7\" >-0.037130</td>\n",
       "      <td id=\"T_6016f_row11_col8\" class=\"data row11 col8\" >0.019111</td>\n",
       "      <td id=\"T_6016f_row11_col9\" class=\"data row11 col9\" >-0.033246</td>\n",
       "      <td id=\"T_6016f_row11_col10\" class=\"data row11 col10\" >0.022090</td>\n",
       "      <td id=\"T_6016f_row11_col11\" class=\"data row11 col11\" >1.000000</td>\n",
       "      <td id=\"T_6016f_row11_col12\" class=\"data row11 col12\" >-0.013484</td>\n",
       "      <td id=\"T_6016f_row11_col13\" class=\"data row11 col13\" >0.009683</td>\n",
       "      <td id=\"T_6016f_row11_col14\" class=\"data row11 col14\" >-0.058796</td>\n",
       "      <td id=\"T_6016f_row11_col15\" class=\"data row11 col15\" >0.015626</td>\n",
       "      <td id=\"T_6016f_row11_col16\" class=\"data row11 col16\" >-0.036257</td>\n",
       "      <td id=\"T_6016f_row11_col17\" class=\"data row11 col17\" >-0.049294</td>\n",
       "      <td id=\"T_6016f_row11_col18\" class=\"data row11 col18\" >0.014164</td>\n",
       "      <td id=\"T_6016f_row11_col19\" class=\"data row11 col19\" >-0.057705</td>\n",
       "      <td id=\"T_6016f_row11_col20\" class=\"data row11 col20\" >0.036279</td>\n",
       "      <td id=\"T_6016f_row11_col21\" class=\"data row11 col21\" >0.064095</td>\n",
       "    </tr>\n",
       "    <tr>\n",
       "      <th id=\"T_6016f_level0_row12\" class=\"row_heading level0 row12\" >AnyHealthcare</th>\n",
       "      <td id=\"T_6016f_row12_col0\" class=\"data row12 col0\" >0.023191</td>\n",
       "      <td id=\"T_6016f_row12_col1\" class=\"data row12 col1\" >0.035764</td>\n",
       "      <td id=\"T_6016f_row12_col2\" class=\"data row12 col2\" >0.031532</td>\n",
       "      <td id=\"T_6016f_row12_col3\" class=\"data row12 col3\" >0.106800</td>\n",
       "      <td id=\"T_6016f_row12_col4\" class=\"data row12 col4\" >-0.013417</td>\n",
       "      <td id=\"T_6016f_row12_col5\" class=\"data row12 col5\" >-0.012939</td>\n",
       "      <td id=\"T_6016f_row12_col6\" class=\"data row12 col6\" >0.006484</td>\n",
       "      <td id=\"T_6016f_row12_col7\" class=\"data row12 col7\" >0.015687</td>\n",
       "      <td id=\"T_6016f_row12_col8\" class=\"data row12 col8\" >0.027089</td>\n",
       "      <td id=\"T_6016f_row12_col9\" class=\"data row12 col9\" >0.029385</td>\n",
       "      <td id=\"T_6016f_row12_col10\" class=\"data row12 col10\" >0.029152</td>\n",
       "      <td id=\"T_6016f_row12_col11\" class=\"data row12 col11\" >-0.013484</td>\n",
       "      <td id=\"T_6016f_row12_col12\" class=\"data row12 col12\" >1.000000</td>\n",
       "      <td id=\"T_6016f_row12_col13\" class=\"data row12 col13\" >-0.221658</td>\n",
       "      <td id=\"T_6016f_row12_col14\" class=\"data row12 col14\" >-0.033060</td>\n",
       "      <td id=\"T_6016f_row12_col15\" class=\"data row12 col15\" >-0.049850</td>\n",
       "      <td id=\"T_6016f_row12_col16\" class=\"data row12 col16\" >-0.003285</td>\n",
       "      <td id=\"T_6016f_row12_col17\" class=\"data row12 col17\" >0.008113</td>\n",
       "      <td id=\"T_6016f_row12_col18\" class=\"data row12 col18\" >-0.006562</td>\n",
       "      <td id=\"T_6016f_row12_col19\" class=\"data row12 col19\" >0.136975</td>\n",
       "      <td id=\"T_6016f_row12_col20\" class=\"data row12 col20\" >0.106601</td>\n",
       "      <td id=\"T_6016f_row12_col21\" class=\"data row12 col21\" >0.130492</td>\n",
       "    </tr>\n",
       "    <tr>\n",
       "      <th id=\"T_6016f_level0_row13\" class=\"row_heading level0 row13\" >NoDocbcCost</th>\n",
       "      <td id=\"T_6016f_row13_col0\" class=\"data row13 col0\" >0.040977</td>\n",
       "      <td id=\"T_6016f_row13_col1\" class=\"data row13 col1\" >0.026517</td>\n",
       "      <td id=\"T_6016f_row13_col2\" class=\"data row13 col2\" >0.033199</td>\n",
       "      <td id=\"T_6016f_row13_col3\" class=\"data row13 col3\" >-0.062669</td>\n",
       "      <td id=\"T_6016f_row13_col4\" class=\"data row13 col4\" >0.065832</td>\n",
       "      <td id=\"T_6016f_row13_col5\" class=\"data row13 col5\" >0.035799</td>\n",
       "      <td id=\"T_6016f_row13_col6\" class=\"data row13 col6\" >0.036198</td>\n",
       "      <td id=\"T_6016f_row13_col7\" class=\"data row13 col7\" >0.036029</td>\n",
       "      <td id=\"T_6016f_row13_col8\" class=\"data row13 col8\" >-0.063302</td>\n",
       "      <td id=\"T_6016f_row13_col9\" class=\"data row13 col9\" >-0.045843</td>\n",
       "      <td id=\"T_6016f_row13_col10\" class=\"data row13 col10\" >-0.037146</td>\n",
       "      <td id=\"T_6016f_row13_col11\" class=\"data row13 col11\" >0.009683</td>\n",
       "      <td id=\"T_6016f_row13_col12\" class=\"data row13 col12\" >-0.221658</td>\n",
       "      <td id=\"T_6016f_row13_col13\" class=\"data row13 col13\" >1.000000</td>\n",
       "      <td id=\"T_6016f_row13_col14\" class=\"data row13 col14\" >0.169515</td>\n",
       "      <td id=\"T_6016f_row13_col15\" class=\"data row13 col15\" >0.193877</td>\n",
       "      <td id=\"T_6016f_row13_col16\" class=\"data row13 col16\" >0.157451</td>\n",
       "      <td id=\"T_6016f_row13_col17\" class=\"data row13 col17\" >0.127111</td>\n",
       "      <td id=\"T_6016f_row13_col18\" class=\"data row13 col18\" >-0.048187</td>\n",
       "      <td id=\"T_6016f_row13_col19\" class=\"data row13 col19\" >-0.129839</td>\n",
       "      <td id=\"T_6016f_row13_col20\" class=\"data row13 col20\" >-0.096989</td>\n",
       "      <td id=\"T_6016f_row13_col21\" class=\"data row13 col21\" >-0.198171</td>\n",
       "    </tr>\n",
       "    <tr>\n",
       "      <th id=\"T_6016f_level0_row14\" class=\"row_heading level0 row14\" >GenHlth</th>\n",
       "      <td id=\"T_6016f_row14_col0\" class=\"data row14 col0\" >0.407612</td>\n",
       "      <td id=\"T_6016f_row14_col1\" class=\"data row14 col1\" >0.320540</td>\n",
       "      <td id=\"T_6016f_row14_col2\" class=\"data row14 col2\" >0.237778</td>\n",
       "      <td id=\"T_6016f_row14_col3\" class=\"data row14 col3\" >0.059213</td>\n",
       "      <td id=\"T_6016f_row14_col4\" class=\"data row14 col4\" >0.267888</td>\n",
       "      <td id=\"T_6016f_row14_col5\" class=\"data row14 col5\" >0.152416</td>\n",
       "      <td id=\"T_6016f_row14_col6\" class=\"data row14 col6\" >0.189447</td>\n",
       "      <td id=\"T_6016f_row14_col7\" class=\"data row14 col7\" >0.275868</td>\n",
       "      <td id=\"T_6016f_row14_col8\" class=\"data row14 col8\" >-0.273548</td>\n",
       "      <td id=\"T_6016f_row14_col9\" class=\"data row14 col9\" >-0.098687</td>\n",
       "      <td id=\"T_6016f_row14_col10\" class=\"data row14 col10\" >-0.115795</td>\n",
       "      <td id=\"T_6016f_row14_col11\" class=\"data row14 col11\" >-0.058796</td>\n",
       "      <td id=\"T_6016f_row14_col12\" class=\"data row14 col12\" >-0.033060</td>\n",
       "      <td id=\"T_6016f_row14_col13\" class=\"data row14 col13\" >0.169515</td>\n",
       "      <td id=\"T_6016f_row14_col14\" class=\"data row14 col14\" >1.000000</td>\n",
       "      <td id=\"T_6016f_row14_col15\" class=\"data row14 col15\" >0.315077</td>\n",
       "      <td id=\"T_6016f_row14_col16\" class=\"data row14 col16\" >0.552757</td>\n",
       "      <td id=\"T_6016f_row14_col17\" class=\"data row14 col17\" >0.476639</td>\n",
       "      <td id=\"T_6016f_row14_col18\" class=\"data row14 col18\" >-0.014555</td>\n",
       "      <td id=\"T_6016f_row14_col19\" class=\"data row14 col19\" >0.155624</td>\n",
       "      <td id=\"T_6016f_row14_col20\" class=\"data row14 col20\" >-0.285420</td>\n",
       "      <td id=\"T_6016f_row14_col21\" class=\"data row14 col21\" >-0.382969</td>\n",
       "    </tr>\n",
       "    <tr>\n",
       "      <th id=\"T_6016f_level0_row15\" class=\"row_heading level0 row15\" >MentHlth</th>\n",
       "      <td id=\"T_6016f_row15_col0\" class=\"data row15 col0\" >0.087029</td>\n",
       "      <td id=\"T_6016f_row15_col1\" class=\"data row15 col1\" >0.064294</td>\n",
       "      <td id=\"T_6016f_row15_col2\" class=\"data row15 col2\" >0.083881</td>\n",
       "      <td id=\"T_6016f_row15_col3\" class=\"data row15 col3\" >-0.010660</td>\n",
       "      <td id=\"T_6016f_row15_col4\" class=\"data row15 col4\" >0.104682</td>\n",
       "      <td id=\"T_6016f_row15_col5\" class=\"data row15 col5\" >0.091257</td>\n",
       "      <td id=\"T_6016f_row15_col6\" class=\"data row15 col6\" >0.087303</td>\n",
       "      <td id=\"T_6016f_row15_col7\" class=\"data row15 col7\" >0.075057</td>\n",
       "      <td id=\"T_6016f_row15_col8\" class=\"data row15 col8\" >-0.130090</td>\n",
       "      <td id=\"T_6016f_row15_col9\" class=\"data row15 col9\" >-0.062102</td>\n",
       "      <td id=\"T_6016f_row15_col10\" class=\"data row15 col10\" >-0.052359</td>\n",
       "      <td id=\"T_6016f_row15_col11\" class=\"data row15 col11\" >0.015626</td>\n",
       "      <td id=\"T_6016f_row15_col12\" class=\"data row15 col12\" >-0.049850</td>\n",
       "      <td id=\"T_6016f_row15_col13\" class=\"data row15 col13\" >0.193877</td>\n",
       "      <td id=\"T_6016f_row15_col14\" class=\"data row15 col14\" >0.315077</td>\n",
       "      <td id=\"T_6016f_row15_col15\" class=\"data row15 col15\" >1.000000</td>\n",
       "      <td id=\"T_6016f_row15_col16\" class=\"data row15 col16\" >0.380272</td>\n",
       "      <td id=\"T_6016f_row15_col17\" class=\"data row15 col17\" >0.251489</td>\n",
       "      <td id=\"T_6016f_row15_col18\" class=\"data row15 col18\" >-0.089204</td>\n",
       "      <td id=\"T_6016f_row15_col19\" class=\"data row15 col19\" >-0.101746</td>\n",
       "      <td id=\"T_6016f_row15_col20\" class=\"data row15 col20\" >-0.107005</td>\n",
       "      <td id=\"T_6016f_row15_col21\" class=\"data row15 col21\" >-0.219070</td>\n",
       "    </tr>\n",
       "    <tr>\n",
       "      <th id=\"T_6016f_level0_row16\" class=\"row_heading level0 row16\" >PhysHlth</th>\n",
       "      <td id=\"T_6016f_row16_col0\" class=\"data row16 col0\" >0.213081</td>\n",
       "      <td id=\"T_6016f_row16_col1\" class=\"data row16 col1\" >0.173922</td>\n",
       "      <td id=\"T_6016f_row16_col2\" class=\"data row16 col2\" >0.142610</td>\n",
       "      <td id=\"T_6016f_row16_col3\" class=\"data row16 col3\" >0.034540</td>\n",
       "      <td id=\"T_6016f_row16_col4\" class=\"data row16 col4\" >0.161862</td>\n",
       "      <td id=\"T_6016f_row16_col5\" class=\"data row16 col5\" >0.120698</td>\n",
       "      <td id=\"T_6016f_row16_col6\" class=\"data row16 col6\" >0.164488</td>\n",
       "      <td id=\"T_6016f_row16_col7\" class=\"data row16 col7\" >0.198416</td>\n",
       "      <td id=\"T_6016f_row16_col8\" class=\"data row16 col8\" >-0.234500</td>\n",
       "      <td id=\"T_6016f_row16_col9\" class=\"data row16 col9\" >-0.048572</td>\n",
       "      <td id=\"T_6016f_row16_col10\" class=\"data row16 col10\" >-0.066896</td>\n",
       "      <td id=\"T_6016f_row16_col11\" class=\"data row16 col11\" >-0.036257</td>\n",
       "      <td id=\"T_6016f_row16_col12\" class=\"data row16 col12\" >-0.003285</td>\n",
       "      <td id=\"T_6016f_row16_col13\" class=\"data row16 col13\" >0.157451</td>\n",
       "      <td id=\"T_6016f_row16_col14\" class=\"data row16 col14\" >0.552757</td>\n",
       "      <td id=\"T_6016f_row16_col15\" class=\"data row16 col15\" >0.380272</td>\n",
       "      <td id=\"T_6016f_row16_col16\" class=\"data row16 col16\" >1.000000</td>\n",
       "      <td id=\"T_6016f_row16_col17\" class=\"data row16 col17\" >0.487976</td>\n",
       "      <td id=\"T_6016f_row16_col18\" class=\"data row16 col18\" >-0.045957</td>\n",
       "      <td id=\"T_6016f_row16_col19\" class=\"data row16 col19\" >0.084852</td>\n",
       "      <td id=\"T_6016f_row16_col20\" class=\"data row16 col20\" >-0.159317</td>\n",
       "      <td id=\"T_6016f_row16_col21\" class=\"data row16 col21\" >-0.279326</td>\n",
       "    </tr>\n",
       "    <tr>\n",
       "      <th id=\"T_6016f_level0_row17\" class=\"row_heading level0 row17\" >DiffWalk</th>\n",
       "      <td id=\"T_6016f_row17_col0\" class=\"data row17 col0\" >0.272646</td>\n",
       "      <td id=\"T_6016f_row17_col1\" class=\"data row17 col1\" >0.234784</td>\n",
       "      <td id=\"T_6016f_row17_col2\" class=\"data row17 col2\" >0.162043</td>\n",
       "      <td id=\"T_6016f_row17_col3\" class=\"data row17 col3\" >0.044430</td>\n",
       "      <td id=\"T_6016f_row17_col4\" class=\"data row17 col4\" >0.246094</td>\n",
       "      <td id=\"T_6016f_row17_col5\" class=\"data row17 col5\" >0.119789</td>\n",
       "      <td id=\"T_6016f_row17_col6\" class=\"data row17 col6\" >0.192266</td>\n",
       "      <td id=\"T_6016f_row17_col7\" class=\"data row17 col7\" >0.232611</td>\n",
       "      <td id=\"T_6016f_row17_col8\" class=\"data row17 col8\" >-0.276868</td>\n",
       "      <td id=\"T_6016f_row17_col9\" class=\"data row17 col9\" >-0.050784</td>\n",
       "      <td id=\"T_6016f_row17_col10\" class=\"data row17 col10\" >-0.084072</td>\n",
       "      <td id=\"T_6016f_row17_col11\" class=\"data row17 col11\" >-0.049294</td>\n",
       "      <td id=\"T_6016f_row17_col12\" class=\"data row17 col12\" >0.008113</td>\n",
       "      <td id=\"T_6016f_row17_col13\" class=\"data row17 col13\" >0.127111</td>\n",
       "      <td id=\"T_6016f_row17_col14\" class=\"data row17 col14\" >0.476639</td>\n",
       "      <td id=\"T_6016f_row17_col15\" class=\"data row17 col15\" >0.251489</td>\n",
       "      <td id=\"T_6016f_row17_col16\" class=\"data row17 col16\" >0.487976</td>\n",
       "      <td id=\"T_6016f_row17_col17\" class=\"data row17 col17\" >1.000000</td>\n",
       "      <td id=\"T_6016f_row17_col18\" class=\"data row17 col18\" >-0.082248</td>\n",
       "      <td id=\"T_6016f_row17_col19\" class=\"data row17 col19\" >0.195265</td>\n",
       "      <td id=\"T_6016f_row17_col20\" class=\"data row17 col20\" >-0.202590</td>\n",
       "      <td id=\"T_6016f_row17_col21\" class=\"data row17 col21\" >-0.343245</td>\n",
       "    </tr>\n",
       "    <tr>\n",
       "      <th id=\"T_6016f_level0_row18\" class=\"row_heading level0 row18\" >Sex</th>\n",
       "      <td id=\"T_6016f_row18_col0\" class=\"data row18 col0\" >0.044413</td>\n",
       "      <td id=\"T_6016f_row18_col1\" class=\"data row18 col1\" >0.040819</td>\n",
       "      <td id=\"T_6016f_row18_col2\" class=\"data row18 col2\" >0.017324</td>\n",
       "      <td id=\"T_6016f_row18_col3\" class=\"data row18 col3\" >-0.007991</td>\n",
       "      <td id=\"T_6016f_row18_col4\" class=\"data row18 col4\" >0.000827</td>\n",
       "      <td id=\"T_6016f_row18_col5\" class=\"data row18 col5\" >0.112125</td>\n",
       "      <td id=\"T_6016f_row18_col6\" class=\"data row18 col6\" >0.003822</td>\n",
       "      <td id=\"T_6016f_row18_col7\" class=\"data row18 col7\" >0.098161</td>\n",
       "      <td id=\"T_6016f_row18_col8\" class=\"data row18 col8\" >0.051753</td>\n",
       "      <td id=\"T_6016f_row18_col9\" class=\"data row18 col9\" >-0.088723</td>\n",
       "      <td id=\"T_6016f_row18_col10\" class=\"data row18 col10\" >-0.052604</td>\n",
       "      <td id=\"T_6016f_row18_col11\" class=\"data row18 col11\" >0.014164</td>\n",
       "      <td id=\"T_6016f_row18_col12\" class=\"data row18 col12\" >-0.006562</td>\n",
       "      <td id=\"T_6016f_row18_col13\" class=\"data row18 col13\" >-0.048187</td>\n",
       "      <td id=\"T_6016f_row18_col14\" class=\"data row18 col14\" >-0.014555</td>\n",
       "      <td id=\"T_6016f_row18_col15\" class=\"data row18 col15\" >-0.089204</td>\n",
       "      <td id=\"T_6016f_row18_col16\" class=\"data row18 col16\" >-0.045957</td>\n",
       "      <td id=\"T_6016f_row18_col17\" class=\"data row18 col17\" >-0.082248</td>\n",
       "      <td id=\"T_6016f_row18_col18\" class=\"data row18 col18\" >1.000000</td>\n",
       "      <td id=\"T_6016f_row18_col19\" class=\"data row18 col19\" >-0.002315</td>\n",
       "      <td id=\"T_6016f_row18_col20\" class=\"data row18 col20\" >0.043564</td>\n",
       "      <td id=\"T_6016f_row18_col21\" class=\"data row18 col21\" >0.159654</td>\n",
       "    </tr>\n",
       "    <tr>\n",
       "      <th id=\"T_6016f_level0_row19\" class=\"row_heading level0 row19\" >Age</th>\n",
       "      <td id=\"T_6016f_row19_col0\" class=\"data row19 col0\" >0.278738</td>\n",
       "      <td id=\"T_6016f_row19_col1\" class=\"data row19 col1\" >0.338132</td>\n",
       "      <td id=\"T_6016f_row19_col2\" class=\"data row19 col2\" >0.240338</td>\n",
       "      <td id=\"T_6016f_row19_col3\" class=\"data row19 col3\" >0.101743</td>\n",
       "      <td id=\"T_6016f_row19_col4\" class=\"data row19 col4\" >-0.038648</td>\n",
       "      <td id=\"T_6016f_row19_col5\" class=\"data row19 col5\" >0.105424</td>\n",
       "      <td id=\"T_6016f_row19_col6\" class=\"data row19 col6\" >0.123879</td>\n",
       "      <td id=\"T_6016f_row19_col7\" class=\"data row19 col7\" >0.221878</td>\n",
       "      <td id=\"T_6016f_row19_col8\" class=\"data row19 col8\" >-0.100753</td>\n",
       "      <td id=\"T_6016f_row19_col9\" class=\"data row19 col9\" >0.061096</td>\n",
       "      <td id=\"T_6016f_row19_col10\" class=\"data row19 col10\" >-0.018893</td>\n",
       "      <td id=\"T_6016f_row19_col11\" class=\"data row19 col11\" >-0.057705</td>\n",
       "      <td id=\"T_6016f_row19_col12\" class=\"data row19 col12\" >0.136975</td>\n",
       "      <td id=\"T_6016f_row19_col13\" class=\"data row19 col13\" >-0.129839</td>\n",
       "      <td id=\"T_6016f_row19_col14\" class=\"data row19 col14\" >0.155624</td>\n",
       "      <td id=\"T_6016f_row19_col15\" class=\"data row19 col15\" >-0.101746</td>\n",
       "      <td id=\"T_6016f_row19_col16\" class=\"data row19 col16\" >0.084852</td>\n",
       "      <td id=\"T_6016f_row19_col17\" class=\"data row19 col17\" >0.195265</td>\n",
       "      <td id=\"T_6016f_row19_col18\" class=\"data row19 col18\" >-0.002315</td>\n",
       "      <td id=\"T_6016f_row19_col19\" class=\"data row19 col19\" >1.000000</td>\n",
       "      <td id=\"T_6016f_row19_col20\" class=\"data row19 col20\" >-0.107127</td>\n",
       "      <td id=\"T_6016f_row19_col21\" class=\"data row19 col21\" >-0.130140</td>\n",
       "    </tr>\n",
       "    <tr>\n",
       "      <th id=\"T_6016f_level0_row20\" class=\"row_heading level0 row20\" >Education</th>\n",
       "      <td id=\"T_6016f_row20_col0\" class=\"data row20 col0\" >-0.170481</td>\n",
       "      <td id=\"T_6016f_row20_col1\" class=\"data row20 col1\" >-0.141643</td>\n",
       "      <td id=\"T_6016f_row20_col2\" class=\"data row20 col2\" >-0.084386</td>\n",
       "      <td id=\"T_6016f_row20_col3\" class=\"data row20 col3\" >-0.008695</td>\n",
       "      <td id=\"T_6016f_row20_col4\" class=\"data row20 col4\" >-0.100233</td>\n",
       "      <td id=\"T_6016f_row20_col5\" class=\"data row20 col5\" >-0.140966</td>\n",
       "      <td id=\"T_6016f_row20_col6\" class=\"data row20 col6\" >-0.073926</td>\n",
       "      <td id=\"T_6016f_row20_col7\" class=\"data row20 col7\" >-0.096559</td>\n",
       "      <td id=\"T_6016f_row20_col8\" class=\"data row20 col8\" >0.190271</td>\n",
       "      <td id=\"T_6016f_row20_col9\" class=\"data row20 col9\" >0.098715</td>\n",
       "      <td id=\"T_6016f_row20_col10\" class=\"data row20 col10\" >0.152512</td>\n",
       "      <td id=\"T_6016f_row20_col11\" class=\"data row20 col11\" >0.036279</td>\n",
       "      <td id=\"T_6016f_row20_col12\" class=\"data row20 col12\" >0.106601</td>\n",
       "      <td id=\"T_6016f_row20_col13\" class=\"data row20 col13\" >-0.096989</td>\n",
       "      <td id=\"T_6016f_row20_col14\" class=\"data row20 col14\" >-0.285420</td>\n",
       "      <td id=\"T_6016f_row20_col15\" class=\"data row20 col15\" >-0.107005</td>\n",
       "      <td id=\"T_6016f_row20_col16\" class=\"data row20 col16\" >-0.159317</td>\n",
       "      <td id=\"T_6016f_row20_col17\" class=\"data row20 col17\" >-0.202590</td>\n",
       "      <td id=\"T_6016f_row20_col18\" class=\"data row20 col18\" >0.043564</td>\n",
       "      <td id=\"T_6016f_row20_col19\" class=\"data row20 col19\" >-0.107127</td>\n",
       "      <td id=\"T_6016f_row20_col20\" class=\"data row20 col20\" >1.000000</td>\n",
       "      <td id=\"T_6016f_row20_col21\" class=\"data row20 col21\" >0.460565</td>\n",
       "    </tr>\n",
       "    <tr>\n",
       "      <th id=\"T_6016f_level0_row21\" class=\"row_heading level0 row21\" >Income</th>\n",
       "      <td id=\"T_6016f_row21_col0\" class=\"data row21 col0\" >-0.224449</td>\n",
       "      <td id=\"T_6016f_row21_col1\" class=\"data row21 col1\" >-0.187657</td>\n",
       "      <td id=\"T_6016f_row21_col2\" class=\"data row21 col2\" >-0.107777</td>\n",
       "      <td id=\"T_6016f_row21_col3\" class=\"data row21 col3\" >0.007550</td>\n",
       "      <td id=\"T_6016f_row21_col4\" class=\"data row21 col4\" >-0.124878</td>\n",
       "      <td id=\"T_6016f_row21_col5\" class=\"data row21 col5\" >-0.104725</td>\n",
       "      <td id=\"T_6016f_row21_col6\" class=\"data row21 col6\" >-0.136577</td>\n",
       "      <td id=\"T_6016f_row21_col7\" class=\"data row21 col7\" >-0.146748</td>\n",
       "      <td id=\"T_6016f_row21_col8\" class=\"data row21 col8\" >0.196551</td>\n",
       "      <td id=\"T_6016f_row21_col9\" class=\"data row21 col9\" >0.079009</td>\n",
       "      <td id=\"T_6016f_row21_col10\" class=\"data row21 col10\" >0.154899</td>\n",
       "      <td id=\"T_6016f_row21_col11\" class=\"data row21 col11\" >0.064095</td>\n",
       "      <td id=\"T_6016f_row21_col12\" class=\"data row21 col12\" >0.130492</td>\n",
       "      <td id=\"T_6016f_row21_col13\" class=\"data row21 col13\" >-0.198171</td>\n",
       "      <td id=\"T_6016f_row21_col14\" class=\"data row21 col14\" >-0.382969</td>\n",
       "      <td id=\"T_6016f_row21_col15\" class=\"data row21 col15\" >-0.219070</td>\n",
       "      <td id=\"T_6016f_row21_col16\" class=\"data row21 col16\" >-0.279326</td>\n",
       "      <td id=\"T_6016f_row21_col17\" class=\"data row21 col17\" >-0.343245</td>\n",
       "      <td id=\"T_6016f_row21_col18\" class=\"data row21 col18\" >0.159654</td>\n",
       "      <td id=\"T_6016f_row21_col19\" class=\"data row21 col19\" >-0.130140</td>\n",
       "      <td id=\"T_6016f_row21_col20\" class=\"data row21 col20\" >0.460565</td>\n",
       "      <td id=\"T_6016f_row21_col21\" class=\"data row21 col21\" >1.000000</td>\n",
       "    </tr>\n",
       "  </tbody>\n",
       "</table>\n"
      ],
      "text/plain": [
       "<pandas.io.formats.style.Styler at 0x19f64df5850>"
      ]
     },
     "execution_count": 404,
     "metadata": {},
     "output_type": "execute_result"
    }
   ],
   "source": [
    "# Create a correlation matrix\n",
    "corr_matrix = db_hi.corr()\n",
    "# Do some conditional formatting for better readability\n",
    "cm = sns.color_palette(\"YlOrBr\", as_cmap=True)\n",
    "corr_matrix_style = corr_matrix.style.background_gradient(cmap = cm)\n",
    "corr_matrix_style"
   ]
  },
  {
   "cell_type": "markdown",
   "id": "0d94a6d2",
   "metadata": {},
   "source": [
    "### Visualize relationship between all variables"
   ]
  },
  {
   "cell_type": "code",
   "execution_count": 405,
   "id": "09b82b06",
   "metadata": {},
   "outputs": [
    {
     "data": {
      "text/plain": [
       "<AxesSubplot:>"
      ]
     },
     "execution_count": 405,
     "metadata": {},
     "output_type": "execute_result"
    },
    {
     "data": {
      "image/png": "[encoded data removed]",
      "text/plain": [
       "<Figure size 864x720 with 2 Axes>"
      ]
     },
     "metadata": {
      "needs_background": "light"
     },
     "output_type": "display_data"
    }
   ],
   "source": [
    "plt.figure(figsize=(12,10))\n",
    "sns.heatmap(data=corr_matrix, cmap='crest')"
   ]
  },
  {
   "cell_type": "markdown",
   "id": "6e507abf",
   "metadata": {},
   "source": [
    "# Hypothesis Testing"
   ]
  },
  {
   "cell_type": "markdown",
   "id": "0972dfe9",
   "metadata": {},
   "source": [
    "### 1. Do no-diabetes and diabetics have the same BMI?"
   ]
  },
  {
   "cell_type": "markdown",
   "id": "fbb9a270",
   "metadata": {},
   "source": [
    "- H0 - no-diabetes and diabetics have the same average BMI.\n",
    "- Ha - no-diabetes and diabetics have different average BMI."
   ]
  },
  {
   "cell_type": "code",
   "execution_count": 406,
   "id": "21e655e8",
   "metadata": {},
   "outputs": [],
   "source": [
    "df_no_bmi = db_hi_0['BMI']\n",
    "df_yes_bmi = db_hi_1['BMI']"
   ]
  },
  {
   "cell_type": "code",
   "execution_count": 407,
   "id": "9011e50c",
   "metadata": {},
   "outputs": [
    {
     "name": "stdout",
     "output_type": "stream",
     "text": [
      "Average BMI for diabetics is 31.94401063769592 and no-diabetes is 27.769959825722854 \n"
     ]
    }
   ],
   "source": [
    "# Check the average BMI\n",
    "print('Average BMI for diabetics is {} and no-diabetes is {} '.format(df_yes_bmi.mean(),df_no_bmi.mean()))"
   ]
  },
  {
   "cell_type": "code",
   "execution_count": 408,
   "id": "6405307c",
   "metadata": {},
   "outputs": [
    {
     "data": {
      "text/plain": [
       "<matplotlib.legend.Legend at 0x19f122f3fd0>"
      ]
     },
     "execution_count": 408,
     "metadata": {},
     "output_type": "execute_result"
    },
    {
     "data": {
      "image/png": "[encoded data removed]",
      "text/plain": [
       "<Figure size 432x288 with 1 Axes>"
      ]
     },
     "metadata": {
      "needs_background": "light"
     },
     "output_type": "display_data"
    }
   ],
   "source": [
    "# Check visually how BMI distribution looks like\n",
    "sns.kdeplot(df_yes_bmi,color='red')\n",
    "sns.kdeplot(df_no_bmi,color='green')\n",
    "plt.grid()\n",
    "plt.title('BMI distribution')\n",
    "plt.legend(['Diabetics', 'No-diabetes'])"
   ]
  },
  {
   "cell_type": "markdown",
   "id": "cf06e30f",
   "metadata": {},
   "source": [
    "### Data Distribution Normality Test"
   ]
  },
  {
   "cell_type": "code",
   "execution_count": 409,
   "id": "236a876d",
   "metadata": {},
   "outputs": [
    {
     "name": "stdout",
     "output_type": "stream",
     "text": [
      "Shapiro-Wilk Test - Statistic: 0.8686143159866333\n",
      "Shapiro-Wilk Test - p-value: 0.0\n"
     ]
    },
    {
     "name": "stderr",
     "output_type": "stream",
     "text": [
      "C:\\ProgramData\\Anaconda3\\lib\\site-packages\\scipy\\stats\\morestats.py:1760: UserWarning: p-value may not be accurate for N > 5000.\n",
      "  warnings.warn(\"p-value may not be accurate for N > 5000.\")\n"
     ]
    }
   ],
   "source": [
    "from scipy.stats import shapiro\n",
    "\n",
    "data = df_no_bmi \n",
    "\n",
    "stat, p_value = shapiro(data)\n",
    "print(\"Shapiro-Wilk Test - Statistic:\", stat)\n",
    "print(\"Shapiro-Wilk Test - p-value:\", p_value)"
   ]
  },
  {
   "cell_type": "code",
   "execution_count": 410,
   "id": "7eb73821",
   "metadata": {
    "scrolled": true
   },
   "outputs": [
    {
     "data": {
      "image/png": "[encoded data removed]",
      "text/plain": [
       "<Figure size 432x288 with 1 Axes>"
      ]
     },
     "metadata": {
      "needs_background": "light"
     },
     "output_type": "display_data"
    }
   ],
   "source": [
    "from scipy.stats import probplot\n",
    "import matplotlib.pyplot as plt\n",
    "\n",
    "data = df_no_bmi  # Replace with your data\n",
    "\n",
    "probplot(data, plot=plt)\n",
    "plt.title(\"Q-Q Plot\")\n",
    "plt.show()"
   ]
  },
  {
   "cell_type": "markdown",
   "id": "ce1bf8af",
   "metadata": {},
   "source": [
    "from these 2 test, I can conclude that distribution of df_no_bmi is not a normal distribution.So, I will use non-parametric test to compare the means of two groups."
   ]
  },
  {
   "cell_type": "code",
   "execution_count": 411,
   "id": "c30275d6",
   "metadata": {},
   "outputs": [
    {
     "name": "stdout",
     "output_type": "stream",
     "text": [
      "Shapiro-Wilk Test - Statistic: 0.9146433472633362\n",
      "Shapiro-Wilk Test - p-value: 0.0\n"
     ]
    },
    {
     "name": "stderr",
     "output_type": "stream",
     "text": [
      "C:\\ProgramData\\Anaconda3\\lib\\site-packages\\scipy\\stats\\morestats.py:1760: UserWarning: p-value may not be accurate for N > 5000.\n",
      "  warnings.warn(\"p-value may not be accurate for N > 5000.\")\n"
     ]
    }
   ],
   "source": [
    "data = df_yes_bmi \n",
    "\n",
    "stat, p_value = shapiro(data)\n",
    "print(\"Shapiro-Wilk Test - Statistic:\", stat)\n",
    "print(\"Shapiro-Wilk Test - p-value:\", p_value)"
   ]
  },
  {
   "cell_type": "code",
   "execution_count": 412,
   "id": "8393d55e",
   "metadata": {},
   "outputs": [
    {
     "data": {
      "image/png": "[encoded data removed]",
      "text/plain": [
       "<Figure size 432x288 with 1 Axes>"
      ]
     },
     "metadata": {
      "needs_background": "light"
     },
     "output_type": "display_data"
    }
   ],
   "source": [
    "data = df_yes_bmi \n",
    "\n",
    "probplot(data, plot=plt)\n",
    "plt.title(\"Q-Q Plot\")\n",
    "plt.show()"
   ]
  },
  {
   "cell_type": "markdown",
   "id": "3825d932",
   "metadata": {},
   "source": [
    "Testing hypothesis using Mann-Whitney U (non-parametric test) to compare the means of two groups"
   ]
  },
  {
   "cell_type": "code",
   "execution_count": 413,
   "id": "54bd8031",
   "metadata": {},
   "outputs": [
    {
     "name": "stdout",
     "output_type": "stream",
     "text": [
      "Mann-Whitney U Test - Statistic: 388166232.0\n",
      "Mann-Whitney U Test - p-value: 0.0\n",
      "Reject Null Hypothesis\n"
     ]
    }
   ],
   "source": [
    "from scipy.stats import mannwhitneyu\n",
    "\n",
    "group1 = df_no_bmi\n",
    "group2 = df_yes_bmi\n",
    "\n",
    "stat, p_value = mannwhitneyu(group1, group2)\n",
    "print(\"Mann-Whitney U Test - Statistic:\", stat)\n",
    "print(\"Mann-Whitney U Test - p-value:\", p_value)\n",
    "\n",
    "if p_value < 0.05:   \n",
    "    print('Reject Null Hypothesis')\n",
    "else:\n",
    "    print('Failed to reject Null Hypothesis')"
   ]
  },
  {
   "cell_type": "markdown",
   "id": "53617e38",
   "metadata": {},
   "source": [
    "I reject null hypothesis (H0 - no-diabetes and diabetics have the same average BMI). <br>\n",
    "There is a statistically significant difference between these two groups at the 0.05 level of significance. The data provides evidence to suggest that the distributions of the two groups are different"
   ]
  },
  {
   "cell_type": "markdown",
   "id": "38d8a229",
   "metadata": {},
   "source": [
    "# Prediction"
   ]
  },
  {
   "cell_type": "code",
   "execution_count": 414,
   "id": "e7626cd5",
   "metadata": {},
   "outputs": [],
   "source": [
    "from sklearn.model_selection import train_test_split\n",
    "from sklearn.svm import SVC\n",
    "from sklearn.tree import DecisionTreeClassifier\n",
    "from sklearn.ensemble import RandomForestClassifier\n",
    "from sklearn.neural_network import MLPClassifier\n",
    "from sklearn.neighbors import KNeighborsClassifier\n",
    "from xgboost import XGBClassifier, plot_importance\n",
    "from sklearn.metrics import accuracy_score, precision_score, recall_score, f1_score, plot_confusion_matrix\n",
    "from sklearn.preprocessing import StandardScaler\n",
    "from sklearn.metrics import confusion_matrix\n",
    "from sklearn import metrics"
   ]
  },
  {
   "cell_type": "code",
   "execution_count": 415,
   "id": "d2168be1",
   "metadata": {},
   "outputs": [
    {
     "data": {
      "text/plain": [
       "Index(['Diabetes_binary', 'HighBP', 'HighChol', 'CholCheck', 'BMI', 'Smoker',\n",
       "       'Stroke', 'HeartDiseaseorAttack', 'PhysActivity', 'Fruits', 'Veggies',\n",
       "       'HvyAlcoholConsump', 'AnyHealthcare', 'NoDocbcCost', 'GenHlth',\n",
       "       'MentHlth', 'PhysHlth', 'DiffWalk', 'Sex', 'Age', 'Education',\n",
       "       'Income'],\n",
       "      dtype='object')"
      ]
     },
     "execution_count": 415,
     "metadata": {},
     "output_type": "execute_result"
    }
   ],
   "source": [
    "db_hi.columns"
   ]
  },
  {
   "cell_type": "code",
   "execution_count": 416,
   "id": "267c916a",
   "metadata": {},
   "outputs": [
    {
     "data": {
      "text/plain": [
       "Diabetes_binary         float64\n",
       "HighBP                  float64\n",
       "HighChol                float64\n",
       "CholCheck               float64\n",
       "BMI                     float64\n",
       "Smoker                  float64\n",
       "Stroke                  float64\n",
       "HeartDiseaseorAttack    float64\n",
       "PhysActivity            float64\n",
       "Fruits                  float64\n",
       "Veggies                 float64\n",
       "HvyAlcoholConsump       float64\n",
       "AnyHealthcare           float64\n",
       "NoDocbcCost             float64\n",
       "GenHlth                 float64\n",
       "MentHlth                float64\n",
       "PhysHlth                float64\n",
       "DiffWalk                float64\n",
       "Sex                     float64\n",
       "Age                     float64\n",
       "Education               float64\n",
       "Income                  float64\n",
       "dtype: object"
      ]
     },
     "execution_count": 416,
     "metadata": {},
     "output_type": "execute_result"
    }
   ],
   "source": [
    "db_hi.dtypes"
   ]
  },
  {
   "cell_type": "markdown",
   "id": "ac4443e8",
   "metadata": {},
   "source": [
    "## Define Independent and Dependent Variables"
   ]
  },
  {
   "cell_type": "code",
   "execution_count": 417,
   "id": "d3ab441f",
   "metadata": {},
   "outputs": [],
   "source": [
    "x = db_hi.drop(['Diabetes_binary'], axis = 1)\n",
    "y = db_hi['Diabetes_binary']"
   ]
  },
  {
   "cell_type": "code",
   "execution_count": 418,
   "id": "3de8a8b0",
   "metadata": {},
   "outputs": [],
   "source": [
    "x_train, x_test, y_train, y_test = train_test_split(x, y, test_size=0.33, random_state=42)"
   ]
  },
  {
   "cell_type": "markdown",
   "id": "1bb1f308",
   "metadata": {},
   "source": [
    "## Decision Tree"
   ]
  },
  {
   "cell_type": "code",
   "execution_count": 419,
   "id": "beefd1c5",
   "metadata": {},
   "outputs": [
    {
     "name": "stdout",
     "output_type": "stream",
     "text": [
      "Accuracy score for Decision Tree is 0.6523640104590852\n"
     ]
    }
   ],
   "source": [
    "model_1 = DecisionTreeClassifier()\n",
    "model_1.fit(x_train, y_train)\n",
    "\n",
    "# Calculate model perfomance\n",
    "predictions = model_1.predict(x_test)\n",
    "model_1_score = accuracy_score(y_test, predictions)\n",
    "\n",
    "print('Accuracy score for Decision Tree is', model_1_score)"
   ]
  },
  {
   "cell_type": "code",
   "execution_count": 420,
   "id": "015dec41",
   "metadata": {},
   "outputs": [
    {
     "name": "stdout",
     "output_type": "stream",
     "text": [
      "the precision score of this model is  0.652\n",
      "the recall score of this model is  0.655\n",
      "the F1 score of this model is  0.654\n"
     ]
    },
    {
     "name": "stderr",
     "output_type": "stream",
     "text": [
      "C:\\ProgramData\\Anaconda3\\lib\\site-packages\\sklearn\\utils\\deprecation.py:87: FutureWarning: Function plot_confusion_matrix is deprecated; Function `plot_confusion_matrix` is deprecated in 1.0 and will be removed in 1.2. Use one of the class methods: ConfusionMatrixDisplay.from_predictions or ConfusionMatrixDisplay.from_estimator.\n",
      "  warnings.warn(msg, category=FutureWarning)\n"
     ]
    },
    {
     "data": {
      "image/png": "[encoded data removed]",
      "text/plain": [
       "<Figure size 432x288 with 2 Axes>"
      ]
     },
     "metadata": {
      "needs_background": "light"
     },
     "output_type": "display_data"
    }
   ],
   "source": [
    "plot_confusion_matrix(model_1.fit(x_train, y_train), x_test, y_test)\n",
    "\n",
    "print(\"the precision score of this model is \",round(metrics.precision_score(y_test,predictions),3))\n",
    "print(\"the recall score of this model is \",round(metrics.recall_score(y_test,predictions),3))\n",
    "print(\"the F1 score of this model is \",round(metrics.f1_score(y_test,predictions),3))\n",
    "\n",
    "model_1_precision_score = round(metrics.precision_score(y_test,predictions),3)\n",
    "model_1_recall_score = round(metrics.recall_score(y_test,predictions),3)\n",
    "model_1_f1_score = round(metrics.f1_score(y_test,predictions),3)"
   ]
  },
  {
   "cell_type": "markdown",
   "id": "0e4fe7f5",
   "metadata": {},
   "source": [
    "## Random Forest"
   ]
  },
  {
   "cell_type": "code",
   "execution_count": 421,
   "id": "8819020c",
   "metadata": {},
   "outputs": [
    {
     "name": "stdout",
     "output_type": "stream",
     "text": [
      "Accuracy score for Random Forest is 0.738994384671439\n"
     ]
    }
   ],
   "source": [
    "model_2 = RandomForestClassifier()\n",
    "model_2.fit(x_train, y_train)\n",
    "\n",
    "# Calculate model perfomance\n",
    "predictions = model_2.predict(x_test)\n",
    "model_2_score = accuracy_score(y_test, predictions)\n",
    "\n",
    "print('Accuracy score for Random Forest is', model_2_score)"
   ]
  },
  {
   "cell_type": "code",
   "execution_count": 422,
   "id": "5f2d7b0b",
   "metadata": {},
   "outputs": [
    {
     "name": "stderr",
     "output_type": "stream",
     "text": [
      "C:\\ProgramData\\Anaconda3\\lib\\site-packages\\sklearn\\utils\\deprecation.py:87: FutureWarning: Function plot_confusion_matrix is deprecated; Function `plot_confusion_matrix` is deprecated in 1.0 and will be removed in 1.2. Use one of the class methods: ConfusionMatrixDisplay.from_predictions or ConfusionMatrixDisplay.from_estimator.\n",
      "  warnings.warn(msg, category=FutureWarning)\n"
     ]
    },
    {
     "name": "stdout",
     "output_type": "stream",
     "text": [
      "the precision score of this model is  0.722\n",
      "the recall score of this model is  0.778\n",
      "the F1 score of this model is  0.749\n"
     ]
    },
    {
     "data": {
      "image/png": "[encoded data removed]",
      "text/plain": [
       "<Figure size 432x288 with 2 Axes>"
      ]
     },
     "metadata": {
      "needs_background": "light"
     },
     "output_type": "display_data"
    }
   ],
   "source": [
    "plot_confusion_matrix(model_2.fit(x_train, y_train), x_test, y_test)\n",
    "\n",
    "print(\"the precision score of this model is \",round(metrics.precision_score(y_test,predictions),3))\n",
    "print(\"the recall score of this model is \",round(metrics.recall_score(y_test,predictions),3))\n",
    "print(\"the F1 score of this model is \",round(metrics.f1_score(y_test,predictions),3))\n",
    "\n",
    "model_2_precision_score = round(metrics.precision_score(y_test,predictions),3)\n",
    "model_2_recall_score = round(metrics.recall_score(y_test,predictions),3)\n",
    "model_2_f1_score = round(metrics.f1_score(y_test,predictions),3)"
   ]
  },
  {
   "cell_type": "markdown",
   "id": "2ad35a1a",
   "metadata": {},
   "source": [
    "## XGB Classifier"
   ]
  },
  {
   "cell_type": "code",
   "execution_count": 423,
   "id": "b717ac4e",
   "metadata": {},
   "outputs": [
    {
     "name": "stdout",
     "output_type": "stream",
     "text": [
      "[17:53:23] WARNING: ..\\src\\learner.cc:1115: Starting in XGBoost 1.3.0, the default evaluation metric used with the objective 'binary:logistic' was changed from 'error' to 'logloss'. Explicitly set eval_metric if you'd like to restore the old behavior.\n"
     ]
    },
    {
     "name": "stderr",
     "output_type": "stream",
     "text": [
      "C:\\ProgramData\\Anaconda3\\lib\\site-packages\\xgboost\\sklearn.py:1224: UserWarning: The use of label encoder in XGBClassifier is deprecated and will be removed in a future release. To remove this warning, do the following: 1) Pass option use_label_encoder=False when constructing XGBClassifier object; and 2) Encode your labels (y) as integers starting with 0, i.e. 0, 1, 2, ..., [num_class - 1].\n",
      "  warnings.warn(label_encoder_deprecation_msg, UserWarning)\n",
      "C:\\ProgramData\\Anaconda3\\lib\\site-packages\\xgboost\\data.py:250: FutureWarning: pandas.Int64Index is deprecated and will be removed from pandas in a future version. Use pandas.Index with the appropriate dtype instead.\n",
      "  elif isinstance(data.columns, (pd.Int64Index, pd.RangeIndex)):\n"
     ]
    },
    {
     "name": "stdout",
     "output_type": "stream",
     "text": [
      "Accuracy score for XGB is 0.7485533027562261\n"
     ]
    }
   ],
   "source": [
    "# XGB \n",
    "model_3 = XGBClassifier()\n",
    "model_3.fit(x_train, y_train)\n",
    "\n",
    "# Calculate model perfomance\n",
    "predictions = model_3.predict(x_test)\n",
    "model_3_score = accuracy_score(y_test, predictions)\n",
    "\n",
    "print('Accuracy score for XGB is', model_3_score)"
   ]
  },
  {
   "cell_type": "code",
   "execution_count": 424,
   "id": "71f6910c",
   "metadata": {},
   "outputs": [
    {
     "name": "stdout",
     "output_type": "stream",
     "text": [
      "[17:53:24] WARNING: ..\\src\\learner.cc:1115: Starting in XGBoost 1.3.0, the default evaluation metric used with the objective 'binary:logistic' was changed from 'error' to 'logloss'. Explicitly set eval_metric if you'd like to restore the old behavior.\n"
     ]
    },
    {
     "name": "stderr",
     "output_type": "stream",
     "text": [
      "C:\\ProgramData\\Anaconda3\\lib\\site-packages\\xgboost\\sklearn.py:1224: UserWarning: The use of label encoder in XGBClassifier is deprecated and will be removed in a future release. To remove this warning, do the following: 1) Pass option use_label_encoder=False when constructing XGBClassifier object; and 2) Encode your labels (y) as integers starting with 0, i.e. 0, 1, 2, ..., [num_class - 1].\n",
      "  warnings.warn(label_encoder_deprecation_msg, UserWarning)\n",
      "C:\\ProgramData\\Anaconda3\\lib\\site-packages\\xgboost\\data.py:250: FutureWarning: pandas.Int64Index is deprecated and will be removed from pandas in a future version. Use pandas.Index with the appropriate dtype instead.\n",
      "  elif isinstance(data.columns, (pd.Int64Index, pd.RangeIndex)):\n"
     ]
    },
    {
     "name": "stdout",
     "output_type": "stream",
     "text": [
      "the precision score of this model is  0.731\n",
      "the recall score of this model is  0.788\n",
      "the F1 score of this model is  0.758\n"
     ]
    },
    {
     "name": "stderr",
     "output_type": "stream",
     "text": [
      "C:\\ProgramData\\Anaconda3\\lib\\site-packages\\sklearn\\utils\\deprecation.py:87: FutureWarning: Function plot_confusion_matrix is deprecated; Function `plot_confusion_matrix` is deprecated in 1.0 and will be removed in 1.2. Use one of the class methods: ConfusionMatrixDisplay.from_predictions or ConfusionMatrixDisplay.from_estimator.\n",
      "  warnings.warn(msg, category=FutureWarning)\n"
     ]
    },
    {
     "data": {
      "image/png": "[encoded data removed]",
      "text/plain": [
       "<Figure size 432x288 with 2 Axes>"
      ]
     },
     "metadata": {
      "needs_background": "light"
     },
     "output_type": "display_data"
    }
   ],
   "source": [
    "plot_confusion_matrix(model_3.fit(x_train, y_train), x_test, y_test)\n",
    "\n",
    "print(\"the precision score of this model is \",round(metrics.precision_score(y_test,predictions),3))\n",
    "print(\"the recall score of this model is \",round(metrics.recall_score(y_test,predictions),3))\n",
    "print(\"the F1 score of this model is \",round(metrics.f1_score(y_test,predictions),3))\n",
    "\n",
    "model_3_precision_score = round(metrics.precision_score(y_test,predictions),3)\n",
    "model_3_recall_score = round(metrics.recall_score(y_test,predictions),3)\n",
    "model_3_f1_score = round(metrics.f1_score(y_test,predictions),3)"
   ]
  },
  {
   "cell_type": "code",
   "execution_count": 443,
   "id": "4bb2bcfc",
   "metadata": {},
   "outputs": [
    {
     "name": "stdout",
     "output_type": "stream",
     "text": [
      "[17:59:50] WARNING: ..\\src\\learner.cc:1115: Starting in XGBoost 1.3.0, the default evaluation metric used with the objective 'binary:logistic' was changed from 'error' to 'logloss'. Explicitly set eval_metric if you'd like to restore the old behavior.\n"
     ]
    },
    {
     "data": {
      "image/png": "[encoded data removed]",
      "text/plain": [
       "<Figure size 432x288 with 1 Axes>"
      ]
     },
     "metadata": {
      "needs_background": "light"
     },
     "output_type": "display_data"
    }
   ],
   "source": [
    "plot_importance(model_3.fit(x_train, y_train))\n",
    "plt.show()"
   ]
  },
  {
   "cell_type": "markdown",
   "id": "fdb1201f",
   "metadata": {},
   "source": [
    "## KNeighbors"
   ]
  },
  {
   "cell_type": "code",
   "execution_count": 426,
   "id": "956325de",
   "metadata": {},
   "outputs": [
    {
     "name": "stdout",
     "output_type": "stream",
     "text": [
      "Accuracy score for KNeighbors is 0.7075313986883278\n"
     ]
    }
   ],
   "source": [
    "# KNeighbors \n",
    "model_5 = KNeighborsClassifier()\n",
    "model_5.fit(x_train, y_train)\n",
    "\n",
    "# Calculate model perfomance\n",
    "predictions = model_5.predict(x_test)\n",
    "model_5_score = accuracy_score(y_test, predictions)\n",
    "\n",
    "print('Accuracy score for KNeighbors is', model_5_score)"
   ]
  },
  {
   "cell_type": "code",
   "execution_count": 427,
   "id": "a6ff664d",
   "metadata": {},
   "outputs": [
    {
     "name": "stderr",
     "output_type": "stream",
     "text": [
      "C:\\ProgramData\\Anaconda3\\lib\\site-packages\\sklearn\\utils\\deprecation.py:87: FutureWarning: Function plot_confusion_matrix is deprecated; Function `plot_confusion_matrix` is deprecated in 1.0 and will be removed in 1.2. Use one of the class methods: ConfusionMatrixDisplay.from_predictions or ConfusionMatrixDisplay.from_estimator.\n",
      "  warnings.warn(msg, category=FutureWarning)\n"
     ]
    },
    {
     "name": "stdout",
     "output_type": "stream",
     "text": [
      "the precision score of this model is  0.698\n",
      "the recall score of this model is  0.733\n",
      "the F1 score of this model is  0.715\n"
     ]
    },
    {
     "data": {
      "image/png": "[encoded data removed]",
      "text/plain": [
       "<Figure size 432x288 with 2 Axes>"
      ]
     },
     "metadata": {
      "needs_background": "light"
     },
     "output_type": "display_data"
    }
   ],
   "source": [
    "plot_confusion_matrix(model_5.fit(x_train, y_train), x_test, y_test)\n",
    "\n",
    "print(\"the precision score of this model is \",round(metrics.precision_score(y_test,predictions),3))\n",
    "print(\"the recall score of this model is \",round(metrics.recall_score(y_test,predictions),3))\n",
    "print(\"the F1 score of this model is \",round(metrics.f1_score(y_test,predictions),3))\n",
    "\n",
    "model_5_precision_score = round(metrics.precision_score(y_test,predictions),3)\n",
    "model_5_recall_score = round(metrics.recall_score(y_test,predictions),3)\n",
    "model_5_f1_score = round(metrics.f1_score(y_test,predictions),3)"
   ]
  },
  {
   "cell_type": "markdown",
   "id": "ea436ecc",
   "metadata": {},
   "source": [
    "## MLP"
   ]
  },
  {
   "cell_type": "code",
   "execution_count": 428,
   "id": "e328670f",
   "metadata": {},
   "outputs": [
    {
     "name": "stdout",
     "output_type": "stream",
     "text": [
      "Accuracy score for MLP is 0.7494106048266107\n"
     ]
    }
   ],
   "source": [
    "# MLP\n",
    "model_6 = MLPClassifier()\n",
    "model_6.fit(x_train, y_train)\n",
    "\n",
    "# Calculate model perfomance\n",
    "predictions = model_6.predict(x_test)\n",
    "model_6_score = accuracy_score(y_test, predictions)\n",
    "\n",
    "print('Accuracy score for MLP is', model_6_score)"
   ]
  },
  {
   "cell_type": "code",
   "execution_count": 429,
   "id": "2acdcdb9",
   "metadata": {},
   "outputs": [
    {
     "name": "stdout",
     "output_type": "stream",
     "text": [
      "the precision score of this model is  0.746\n",
      "the recall score of this model is  0.758\n",
      "the F1 score of this model is  0.752\n"
     ]
    },
    {
     "name": "stderr",
     "output_type": "stream",
     "text": [
      "C:\\ProgramData\\Anaconda3\\lib\\site-packages\\sklearn\\utils\\deprecation.py:87: FutureWarning: Function plot_confusion_matrix is deprecated; Function `plot_confusion_matrix` is deprecated in 1.0 and will be removed in 1.2. Use one of the class methods: ConfusionMatrixDisplay.from_predictions or ConfusionMatrixDisplay.from_estimator.\n",
      "  warnings.warn(msg, category=FutureWarning)\n"
     ]
    },
    {
     "data": {
      "image/png": "[encoded data removed]",
      "text/plain": [
       "<Figure size 432x288 with 2 Axes>"
      ]
     },
     "metadata": {
      "needs_background": "light"
     },
     "output_type": "display_data"
    }
   ],
   "source": [
    "plot_confusion_matrix(model_6.fit(x_train, y_train), x_test, y_test)\n",
    "\n",
    "print(\"the precision score of this model is \",round(metrics.precision_score(y_test,predictions),3))\n",
    "print(\"the recall score of this model is \",round(metrics.recall_score(y_test,predictions),3))\n",
    "print(\"the F1 score of this model is \",round(metrics.f1_score(y_test,predictions),3))\n",
    "\n",
    "model_6_precision_score = round(metrics.precision_score(y_test,predictions),3)\n",
    "model_6_recall_score = round(metrics.recall_score(y_test,predictions),3)\n",
    "model_6_f1_score = round(metrics.f1_score(y_test,predictions),3)"
   ]
  },
  {
   "cell_type": "markdown",
   "id": "ea6ae4b6",
   "metadata": {},
   "source": [
    "## Model Performance Comparison"
   ]
  },
  {
   "cell_type": "code",
   "execution_count": 430,
   "id": "3dd91e47",
   "metadata": {},
   "outputs": [
    {
     "data": {
      "text/html": [
       "<div>\n",
       "<style scoped>\n",
       "    .dataframe tbody tr th:only-of-type {\n",
       "        vertical-align: middle;\n",
       "    }\n",
       "\n",
       "    .dataframe tbody tr th {\n",
       "        vertical-align: top;\n",
       "    }\n",
       "\n",
       "    .dataframe thead th {\n",
       "        text-align: right;\n",
       "    }\n",
       "</style>\n",
       "<table border=\"1\" class=\"dataframe\">\n",
       "  <thead>\n",
       "    <tr style=\"text-align: right;\">\n",
       "      <th></th>\n",
       "      <th>Models</th>\n",
       "      <th>Accuracy_score</th>\n",
       "      <th>Precision_scores</th>\n",
       "      <th>Recall_scores</th>\n",
       "      <th>F1_scores</th>\n",
       "    </tr>\n",
       "  </thead>\n",
       "  <tbody>\n",
       "    <tr>\n",
       "      <th>0</th>\n",
       "      <td>Decision Tree</td>\n",
       "      <td>0.652364</td>\n",
       "      <td>0.652</td>\n",
       "      <td>0.655</td>\n",
       "      <td>0.654</td>\n",
       "    </tr>\n",
       "    <tr>\n",
       "      <th>1</th>\n",
       "      <td>Random Forest</td>\n",
       "      <td>0.738994</td>\n",
       "      <td>0.722</td>\n",
       "      <td>0.778</td>\n",
       "      <td>0.749</td>\n",
       "    </tr>\n",
       "    <tr>\n",
       "      <th>2</th>\n",
       "      <td>XGB</td>\n",
       "      <td>0.748553</td>\n",
       "      <td>0.731</td>\n",
       "      <td>0.788</td>\n",
       "      <td>0.758</td>\n",
       "    </tr>\n",
       "    <tr>\n",
       "      <th>3</th>\n",
       "      <td>KNeighbors</td>\n",
       "      <td>0.707531</td>\n",
       "      <td>0.698</td>\n",
       "      <td>0.733</td>\n",
       "      <td>0.715</td>\n",
       "    </tr>\n",
       "    <tr>\n",
       "      <th>4</th>\n",
       "      <td>MLP</td>\n",
       "      <td>0.749411</td>\n",
       "      <td>0.746</td>\n",
       "      <td>0.758</td>\n",
       "      <td>0.752</td>\n",
       "    </tr>\n",
       "  </tbody>\n",
       "</table>\n",
       "</div>"
      ],
      "text/plain": [
       "          Models  Accuracy_score  Precision_scores  Recall_scores  F1_scores\n",
       "0  Decision Tree        0.652364             0.652          0.655      0.654\n",
       "1  Random Forest        0.738994             0.722          0.778      0.749\n",
       "2            XGB        0.748553             0.731          0.788      0.758\n",
       "3     KNeighbors        0.707531             0.698          0.733      0.715\n",
       "4            MLP        0.749411             0.746          0.758      0.752"
      ]
     },
     "execution_count": 430,
     "metadata": {},
     "output_type": "execute_result"
    }
   ],
   "source": [
    "# Compare models perfomance\n",
    "Models = ['Decision Tree', 'Random Forest', 'XGB', 'KNeighbors', 'MLP']\n",
    "Accuracy_scores = [model_1_score, model_2_score, model_3_score, model_5_score, model_6_score]\n",
    "Precision_scores = [model_1_precision_score, model_2_precision_score, model_3_precision_score, model_5_precision_score, model_6_precision_score]\n",
    "Recall_scores = [model_1_recall_score, model_2_recall_score, model_3_recall_score, model_5_recall_score, model_6_recall_score]\n",
    "F1_scores = [model_1_f1_score, model_2_f1_score, model_3_f1_score, model_5_f1_score, model_6_f1_score]\n",
    "\n",
    "\n",
    "perfomance = pd.DataFrame(list(zip(Models, Accuracy_scores, Precision_scores,Recall_scores, F1_scores )), columns = ['Models', 'Accuracy_score', 'Precision_scores','Recall_scores','F1_scores'])\n",
    "perfomance"
   ]
  },
  {
   "cell_type": "markdown",
   "id": "4985cb80",
   "metadata": {},
   "source": [
    "# Attributions"
   ]
  },
  {
   "cell_type": "markdown",
   "id": "c622a2c1",
   "metadata": {},
   "source": [
    "I modified this notebook based on [Anastasia Igonina's notebook](https://www.kaggle.com/code/anastasiyaigonina/diabetes-eda-hypothesis-testing-predictions) on Kaggle.com"
   ]
  },
  {
   "cell_type": "code",
   "execution_count": null,
   "id": "7475ccf2",
   "metadata": {},
   "outputs": [],
   "source": []
  }
 ],
 "metadata": {
  "kernelspec": {
   "display_name": "Python 3 (ipykernel)",
   "language": "python",
   "name": "python3"
  },
  "language_info": {
   "codemirror_mode": {
    "name": "ipython",
    "version": 3
   },
   "file_extension": ".py",
   "mimetype": "text/x-python",
   "name": "python",
   "nbconvert_exporter": "python",
   "pygments_lexer": "ipython3",
   "version": "3.9.12"
  }
 },
 "nbformat": 4,
 "nbformat_minor": 5
}
