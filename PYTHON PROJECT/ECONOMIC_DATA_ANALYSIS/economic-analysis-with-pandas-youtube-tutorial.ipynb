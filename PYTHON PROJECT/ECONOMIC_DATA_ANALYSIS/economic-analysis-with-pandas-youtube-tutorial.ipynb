{
 "cells": [
  {
   "cell_type": "markdown",
   "metadata": {},
   "source": [
    "# Economic Data Analysis with Fred & Pandas\n",
    "Pull The data, Visualize, discover insights... All with python/pandas!\n",
    "\n",
    "This notebook was created as a youtube tutorial you can find on my channel [here](https://www.youtube.com/channel/UCxladMszXan-jfgzyeIMyvw).\n",
    "\n",
    "<img src=\"https://miro.medium.com/proxy/1*xR4m0oOKz_jRgQU4Oge53g.jpeg\" width=\"500\" height=\"200\" />\n"
   ]
  },
  {
   "cell_type": "code",
   "execution_count": 10,
   "metadata": {
    "execution": {
     "iopub.execute_input": "2022-10-20T14:24:09.589657Z",
     "iopub.status.busy": "2022-10-20T14:24:09.589299Z",
     "iopub.status.idle": "2022-10-20T14:24:11.319114Z",
     "shell.execute_reply": "2022-10-20T14:24:11.318126Z",
     "shell.execute_reply.started": "2022-10-20T14:24:09.589616Z"
    }
   },
   "outputs": [],
   "source": [
    "import pandas as pd\n",
    "import numpy as np\n",
    "import matplotlib.pyplot as plt\n",
    "import plotly.express as px\n",
    "import time\n",
    "\n",
    "plt.style.use('fivethirtyeight')\n",
    "pd.options.display.max_rows = 5\n",
    "color_pal = plt.rcParams[\"axes.prop_cycle\"].by_key()[\"color\"]\n",
    "\n",
    "from fredapi import Fred\n",
    "\n",
    "fred_key = '1a5a5897a4b789165db7e4b972b4a6b2'"
   ]
  },
  {
   "cell_type": "markdown",
   "metadata": {},
   "source": [
    "# 1. Create The Fred Object"
   ]
  },
  {
   "cell_type": "code",
   "execution_count": 11,
   "metadata": {
    "execution": {
     "iopub.execute_input": "2022-10-20T14:24:11.321089Z",
     "iopub.status.busy": "2022-10-20T14:24:11.320839Z",
     "iopub.status.idle": "2022-10-20T14:24:11.325676Z",
     "shell.execute_reply": "2022-10-20T14:24:11.324727Z",
     "shell.execute_reply.started": "2022-10-20T14:24:11.321059Z"
    }
   },
   "outputs": [],
   "source": [
    "fred = Fred(api_key=fred_key)"
   ]
  },
  {
   "cell_type": "markdown",
   "metadata": {
    "execution": {
     "iopub.execute_input": "2022-04-23T16:09:16.180208Z",
     "iopub.status.busy": "2022-04-23T16:09:16.179892Z",
     "iopub.status.idle": "2022-04-23T16:09:16.186411Z",
     "shell.execute_reply": "2022-04-23T16:09:16.185328Z",
     "shell.execute_reply.started": "2022-04-23T16:09:16.180169Z"
    }
   },
   "source": [
    "# 2. Search for economic data!"
   ]
  },
  {
   "cell_type": "code",
   "execution_count": 12,
   "metadata": {
    "execution": {
     "iopub.execute_input": "2022-10-20T14:24:12.17785Z",
     "iopub.status.busy": "2022-10-20T14:24:12.17751Z",
     "iopub.status.idle": "2022-10-20T14:24:14.932551Z",
     "shell.execute_reply": "2022-10-20T14:24:14.931827Z",
     "shell.execute_reply.started": "2022-10-20T14:24:12.177814Z"
    }
   },
   "outputs": [],
   "source": [
    "sp_search = fred.search('S&P', order_by='popularity')"
   ]
  },
  {
   "cell_type": "code",
   "execution_count": 13,
   "metadata": {
    "execution": {
     "iopub.execute_input": "2022-10-20T14:24:14.934679Z",
     "iopub.status.busy": "2022-10-20T14:24:14.934319Z",
     "iopub.status.idle": "2022-10-20T14:24:14.962769Z",
     "shell.execute_reply": "2022-10-20T14:24:14.961753Z",
     "shell.execute_reply.started": "2022-10-20T14:24:14.934636Z"
    }
   },
   "outputs": [
    {
     "data": {
      "text/html": [
       "<div>\n",
       "<style scoped>\n",
       "    .dataframe tbody tr th:only-of-type {\n",
       "        vertical-align: middle;\n",
       "    }\n",
       "\n",
       "    .dataframe tbody tr th {\n",
       "        vertical-align: top;\n",
       "    }\n",
       "\n",
       "    .dataframe thead th {\n",
       "        text-align: right;\n",
       "    }\n",
       "</style>\n",
       "<table border=\"1\" class=\"dataframe\">\n",
       "  <thead>\n",
       "    <tr style=\"text-align: right;\">\n",
       "      <th></th>\n",
       "      <th>id</th>\n",
       "      <th>realtime_start</th>\n",
       "      <th>realtime_end</th>\n",
       "      <th>title</th>\n",
       "      <th>observation_start</th>\n",
       "      <th>observation_end</th>\n",
       "      <th>frequency</th>\n",
       "      <th>frequency_short</th>\n",
       "      <th>units</th>\n",
       "      <th>units_short</th>\n",
       "      <th>seasonal_adjustment</th>\n",
       "      <th>seasonal_adjustment_short</th>\n",
       "      <th>last_updated</th>\n",
       "      <th>popularity</th>\n",
       "      <th>notes</th>\n",
       "    </tr>\n",
       "    <tr>\n",
       "      <th>series id</th>\n",
       "      <th></th>\n",
       "      <th></th>\n",
       "      <th></th>\n",
       "      <th></th>\n",
       "      <th></th>\n",
       "      <th></th>\n",
       "      <th></th>\n",
       "      <th></th>\n",
       "      <th></th>\n",
       "      <th></th>\n",
       "      <th></th>\n",
       "      <th></th>\n",
       "      <th></th>\n",
       "      <th></th>\n",
       "      <th></th>\n",
       "    </tr>\n",
       "  </thead>\n",
       "  <tbody>\n",
       "    <tr>\n",
       "      <th>BAMLH0A0HYM2</th>\n",
       "      <td>BAMLH0A0HYM2</td>\n",
       "      <td>2023-05-19</td>\n",
       "      <td>2023-05-19</td>\n",
       "      <td>ICE BofA US High Yield Index Option-Adjusted S...</td>\n",
       "      <td>1996-12-31</td>\n",
       "      <td>2023-05-18</td>\n",
       "      <td>Daily, Close</td>\n",
       "      <td>D</td>\n",
       "      <td>Percent</td>\n",
       "      <td>%</td>\n",
       "      <td>Not Seasonally Adjusted</td>\n",
       "      <td>NSA</td>\n",
       "      <td>2023-05-19 09:21:06-05:00</td>\n",
       "      <td>95</td>\n",
       "      <td>The ICE BofA Option-Adjusted Spreads (OASs) ar...</td>\n",
       "    </tr>\n",
       "    <tr>\n",
       "      <th>CSUSHPINSA</th>\n",
       "      <td>CSUSHPINSA</td>\n",
       "      <td>2023-05-19</td>\n",
       "      <td>2023-05-19</td>\n",
       "      <td>S&amp;P/Case-Shiller U.S. National Home Price Index</td>\n",
       "      <td>1987-01-01</td>\n",
       "      <td>2023-02-01</td>\n",
       "      <td>Monthly</td>\n",
       "      <td>M</td>\n",
       "      <td>Index Jan 2000=100</td>\n",
       "      <td>Index Jan 2000=100</td>\n",
       "      <td>Not Seasonally Adjusted</td>\n",
       "      <td>NSA</td>\n",
       "      <td>2023-04-25 08:13:02-05:00</td>\n",
       "      <td>90</td>\n",
       "      <td>For more information regarding the index, plea...</td>\n",
       "    </tr>\n",
       "    <tr>\n",
       "      <th>BAMLH0A0HYM2EY</th>\n",
       "      <td>BAMLH0A0HYM2EY</td>\n",
       "      <td>2023-05-19</td>\n",
       "      <td>2023-05-19</td>\n",
       "      <td>ICE BofA US High Yield Index Effective Yield</td>\n",
       "      <td>1996-12-31</td>\n",
       "      <td>2023-05-18</td>\n",
       "      <td>Daily, Close</td>\n",
       "      <td>D</td>\n",
       "      <td>Percent</td>\n",
       "      <td>%</td>\n",
       "      <td>Not Seasonally Adjusted</td>\n",
       "      <td>NSA</td>\n",
       "      <td>2023-05-19 09:21:11-05:00</td>\n",
       "      <td>83</td>\n",
       "      <td>This data represents the effective yield of th...</td>\n",
       "    </tr>\n",
       "    <tr>\n",
       "      <th>SP500</th>\n",
       "      <td>SP500</td>\n",
       "      <td>2023-05-19</td>\n",
       "      <td>2023-05-19</td>\n",
       "      <td>S&amp;P 500</td>\n",
       "      <td>2013-05-20</td>\n",
       "      <td>2023-05-19</td>\n",
       "      <td>Daily, Close</td>\n",
       "      <td>D</td>\n",
       "      <td>Index</td>\n",
       "      <td>Index</td>\n",
       "      <td>Not Seasonally Adjusted</td>\n",
       "      <td>NSA</td>\n",
       "      <td>2023-05-19 19:13:26-05:00</td>\n",
       "      <td>83</td>\n",
       "      <td>The observations for the S&amp;P 500 represent the...</td>\n",
       "    </tr>\n",
       "    <tr>\n",
       "      <th>MEHOINUSA672N</th>\n",
       "      <td>MEHOINUSA672N</td>\n",
       "      <td>2023-05-19</td>\n",
       "      <td>2023-05-19</td>\n",
       "      <td>Real Median Household Income in the United States</td>\n",
       "      <td>1984-01-01</td>\n",
       "      <td>2021-01-01</td>\n",
       "      <td>Annual</td>\n",
       "      <td>A</td>\n",
       "      <td>2021 CPI-U-RS Adjusted Dollars</td>\n",
       "      <td>2021 CPI-U-RS Adjusted $</td>\n",
       "      <td>Not Seasonally Adjusted</td>\n",
       "      <td>NSA</td>\n",
       "      <td>2022-09-13 13:48:01-05:00</td>\n",
       "      <td>80</td>\n",
       "      <td>Household data are collected as of March.  As ...</td>\n",
       "    </tr>\n",
       "  </tbody>\n",
       "</table>\n",
       "</div>"
      ],
      "text/plain": [
       "                            id realtime_start realtime_end  \\\n",
       "series id                                                    \n",
       "BAMLH0A0HYM2      BAMLH0A0HYM2     2023-05-19   2023-05-19   \n",
       "CSUSHPINSA          CSUSHPINSA     2023-05-19   2023-05-19   \n",
       "BAMLH0A0HYM2EY  BAMLH0A0HYM2EY     2023-05-19   2023-05-19   \n",
       "SP500                    SP500     2023-05-19   2023-05-19   \n",
       "MEHOINUSA672N    MEHOINUSA672N     2023-05-19   2023-05-19   \n",
       "\n",
       "                                                            title  \\\n",
       "series id                                                           \n",
       "BAMLH0A0HYM2    ICE BofA US High Yield Index Option-Adjusted S...   \n",
       "CSUSHPINSA        S&P/Case-Shiller U.S. National Home Price Index   \n",
       "BAMLH0A0HYM2EY       ICE BofA US High Yield Index Effective Yield   \n",
       "SP500                                                     S&P 500   \n",
       "MEHOINUSA672N   Real Median Household Income in the United States   \n",
       "\n",
       "               observation_start observation_end     frequency  \\\n",
       "series id                                                        \n",
       "BAMLH0A0HYM2          1996-12-31      2023-05-18  Daily, Close   \n",
       "CSUSHPINSA            1987-01-01      2023-02-01       Monthly   \n",
       "BAMLH0A0HYM2EY        1996-12-31      2023-05-18  Daily, Close   \n",
       "SP500                 2013-05-20      2023-05-19  Daily, Close   \n",
       "MEHOINUSA672N         1984-01-01      2021-01-01        Annual   \n",
       "\n",
       "               frequency_short                           units  \\\n",
       "series id                                                        \n",
       "BAMLH0A0HYM2                 D                         Percent   \n",
       "CSUSHPINSA                   M              Index Jan 2000=100   \n",
       "BAMLH0A0HYM2EY               D                         Percent   \n",
       "SP500                        D                           Index   \n",
       "MEHOINUSA672N                A  2021 CPI-U-RS Adjusted Dollars   \n",
       "\n",
       "                             units_short      seasonal_adjustment  \\\n",
       "series id                                                           \n",
       "BAMLH0A0HYM2                           %  Not Seasonally Adjusted   \n",
       "CSUSHPINSA            Index Jan 2000=100  Not Seasonally Adjusted   \n",
       "BAMLH0A0HYM2EY                         %  Not Seasonally Adjusted   \n",
       "SP500                              Index  Not Seasonally Adjusted   \n",
       "MEHOINUSA672N   2021 CPI-U-RS Adjusted $  Not Seasonally Adjusted   \n",
       "\n",
       "               seasonal_adjustment_short               last_updated  \\\n",
       "series id                                                             \n",
       "BAMLH0A0HYM2                         NSA  2023-05-19 09:21:06-05:00   \n",
       "CSUSHPINSA                           NSA  2023-04-25 08:13:02-05:00   \n",
       "BAMLH0A0HYM2EY                       NSA  2023-05-19 09:21:11-05:00   \n",
       "SP500                                NSA  2023-05-19 19:13:26-05:00   \n",
       "MEHOINUSA672N                        NSA  2022-09-13 13:48:01-05:00   \n",
       "\n",
       "               popularity                                              notes  \n",
       "series id                                                                     \n",
       "BAMLH0A0HYM2           95  The ICE BofA Option-Adjusted Spreads (OASs) ar...  \n",
       "CSUSHPINSA             90  For more information regarding the index, plea...  \n",
       "BAMLH0A0HYM2EY         83  This data represents the effective yield of th...  \n",
       "SP500                  83  The observations for the S&P 500 represent the...  \n",
       "MEHOINUSA672N          80  Household data are collected as of March.  As ...  "
      ]
     },
     "execution_count": 13,
     "metadata": {},
     "output_type": "execute_result"
    }
   ],
   "source": [
    "sp_search.head()"
   ]
  },
  {
   "cell_type": "markdown",
   "metadata": {},
   "source": [
    "# 3. Pull Raw Data & Plot"
   ]
  },
  {
   "cell_type": "code",
   "execution_count": 14,
   "metadata": {
    "execution": {
     "iopub.execute_input": "2022-10-20T14:24:21.237544Z",
     "iopub.status.busy": "2022-10-20T14:24:21.236666Z",
     "iopub.status.idle": "2022-10-20T14:24:22.732091Z",
     "shell.execute_reply": "2022-10-20T14:24:22.731417Z",
     "shell.execute_reply.started": "2022-10-20T14:24:21.23749Z"
    }
   },
   "outputs": [
    {
     "data": {
      "image/png": "[encoded data removed]",
      "text/plain": [
       "<Figure size 720x360 with 1 Axes>"
      ]
     },
     "metadata": {},
     "output_type": "display_data"
    }
   ],
   "source": [
    "sp500 = fred.get_series(series_id='SP500')\n",
    "sp500.plot(figsize=(10, 5), title='S&P 500', lw=2)\n",
    "plt.show()"
   ]
  },
  {
   "cell_type": "markdown",
   "metadata": {},
   "source": [
    "# 4. Pull and Join Multiple Data Series"
   ]
  },
  {
   "cell_type": "code",
   "execution_count": null,
   "metadata": {
    "execution": {
     "iopub.execute_input": "2022-10-20T14:24:51.950733Z",
     "iopub.status.busy": "2022-10-20T14:24:51.950427Z",
     "iopub.status.idle": "2022-10-20T14:24:54.261942Z",
     "shell.execute_reply": "2022-10-20T14:24:54.261116Z",
     "shell.execute_reply.started": "2022-10-20T14:24:51.950703Z"
    }
   },
   "outputs": [],
   "source": [
    "unemp_df = fred.search('unemployment rate state', filter=('frequency','Monthly'))\n",
    "unemp_df = unemp_df.query('seasonal_adjustment == \"Seasonally Adjusted\" and units == \"Percent\"')\n",
    "unemp_df = unemp_df.loc[unemp_df['title'].str.contains('Unemployment Rate')]"
   ]
  },
  {
   "cell_type": "code",
   "execution_count": null,
   "metadata": {
    "execution": {
     "iopub.execute_input": "2022-10-20T14:24:58.114688Z",
     "iopub.status.busy": "2022-10-20T14:24:58.1144Z",
     "iopub.status.idle": "2022-10-20T14:26:09.995729Z",
     "shell.execute_reply": "2022-10-20T14:26:09.994705Z",
     "shell.execute_reply.started": "2022-10-20T14:24:58.114657Z"
    }
   },
   "outputs": [],
   "source": [
    "all_results = []\n",
    "\n",
    "for myid in unemp_df.index:\n",
    "    results = fred.get_series(myid)\n",
    "    results = results.to_frame(name=myid)\n",
    "    all_results.append(results)\n",
    "    time.sleep(0.1) # Don't request to fast and get blocked\n",
    "uemp_results = pd.concat(all_results, axis=1)"
   ]
  },
  {
   "cell_type": "code",
   "execution_count": null,
   "metadata": {
    "execution": {
     "iopub.execute_input": "2022-10-20T14:26:40.544717Z",
     "iopub.status.busy": "2022-10-20T14:26:40.544432Z",
     "iopub.status.idle": "2022-10-20T14:26:40.555505Z",
     "shell.execute_reply": "2022-10-20T14:26:40.554784Z",
     "shell.execute_reply.started": "2022-10-20T14:26:40.544688Z"
    }
   },
   "outputs": [],
   "source": [
    "cols_to_drop = []\n",
    "for i in uemp_results:\n",
    "    if len(i) > 4:\n",
    "        cols_to_drop.append(i)\n",
    "uemp_results = uemp_results.drop(columns = cols_to_drop, axis=1)"
   ]
  },
  {
   "cell_type": "code",
   "execution_count": null,
   "metadata": {
    "execution": {
     "iopub.execute_input": "2022-10-20T14:27:38.640799Z",
     "iopub.status.busy": "2022-10-20T14:27:38.639757Z",
     "iopub.status.idle": "2022-10-20T14:27:38.651823Z",
     "shell.execute_reply": "2022-10-20T14:27:38.650896Z",
     "shell.execute_reply.started": "2022-10-20T14:27:38.64075Z"
    }
   },
   "outputs": [],
   "source": [
    "uemp_states = uemp_results.copy()  #.drop('UNRATE', axis=1)\n",
    "uemp_states = uemp_states.dropna()\n",
    "id_to_state = unemp_df['title'].str.replace('Unemployment Rate in ','').to_dict()\n",
    "uemp_states.columns = [id_to_state[c] for c in uemp_states.columns]"
   ]
  },
  {
   "cell_type": "code",
   "execution_count": null,
   "metadata": {
    "execution": {
     "iopub.execute_input": "2022-10-20T14:27:41.110919Z",
     "iopub.status.busy": "2022-10-20T14:27:41.110629Z",
     "iopub.status.idle": "2022-10-20T14:27:43.326871Z",
     "shell.execute_reply": "2022-10-20T14:27:43.325883Z",
     "shell.execute_reply.started": "2022-10-20T14:27:41.110889Z"
    }
   },
   "outputs": [],
   "source": [
    "# Plot States Unemployment Rate\n",
    "px.line(uemp_states)"
   ]
  },
  {
   "cell_type": "markdown",
   "metadata": {},
   "source": [
    "# Pull April 2020 Unemployment Rate Per State"
   ]
  },
  {
   "cell_type": "code",
   "execution_count": null,
   "metadata": {
    "execution": {
     "iopub.execute_input": "2022-10-20T14:29:14.502202Z",
     "iopub.status.busy": "2022-10-20T14:29:14.501914Z",
     "iopub.status.idle": "2022-10-20T14:29:15.300032Z",
     "shell.execute_reply": "2022-10-20T14:29:15.29912Z",
     "shell.execute_reply.started": "2022-10-20T14:29:14.502173Z"
    }
   },
   "outputs": [],
   "source": [
    "ax = uemp_states.loc[uemp_states.index == '2020-05-01'].T \\\n",
    "    .sort_values('2020-05-01') \\\n",
    "    .plot(kind='barh', figsize=(8, 12), width=0.7, edgecolor='black',\n",
    "          title='Unemployment Rate by State, May 2020')\n",
    "ax.legend().remove()\n",
    "ax.set_xlabel('% Unemployed')\n",
    "plt.show()"
   ]
  },
  {
   "cell_type": "markdown",
   "metadata": {
    "execution": {
     "iopub.execute_input": "2022-04-23T16:50:12.22967Z",
     "iopub.status.busy": "2022-04-23T16:50:12.229185Z",
     "iopub.status.idle": "2022-04-23T16:50:12.234535Z",
     "shell.execute_reply": "2022-04-23T16:50:12.233888Z",
     "shell.execute_reply.started": "2022-04-23T16:50:12.229614Z"
    }
   },
   "source": [
    "# Pull Participation Rate"
   ]
  },
  {
   "cell_type": "code",
   "execution_count": null,
   "metadata": {
    "execution": {
     "iopub.execute_input": "2022-10-20T14:29:20.158326Z",
     "iopub.status.busy": "2022-10-20T14:29:20.158007Z",
     "iopub.status.idle": "2022-10-20T14:29:21.365266Z",
     "shell.execute_reply": "2022-10-20T14:29:21.364254Z",
     "shell.execute_reply.started": "2022-10-20T14:29:20.158279Z"
    }
   },
   "outputs": [],
   "source": [
    "part_df = fred.search('participation rate state', filter=('frequency','Monthly'))\n",
    "part_df = part_df.query('seasonal_adjustment == \"Seasonally Adjusted\" and units == \"Percent\"')"
   ]
  },
  {
   "cell_type": "code",
   "execution_count": null,
   "metadata": {
    "execution": {
     "iopub.execute_input": "2022-10-20T14:29:22.590802Z",
     "iopub.status.busy": "2022-10-20T14:29:22.590492Z",
     "iopub.status.idle": "2022-10-20T14:30:55.180054Z",
     "shell.execute_reply": "2022-10-20T14:30:55.179053Z",
     "shell.execute_reply.started": "2022-10-20T14:29:22.590766Z"
    }
   },
   "outputs": [],
   "source": [
    "part_id_to_state = part_df['title'].str.replace('Labor Force Participation Rate for ','').to_dict()\n",
    "\n",
    "all_results = []\n",
    "\n",
    "for myid in part_df.index:\n",
    "    results = fred.get_series(myid)\n",
    "    results = results.to_frame(name=myid)\n",
    "    all_results.append(results)\n",
    "    time.sleep(0.1) # Don't request to fast and get blocked\n",
    "part_states = pd.concat(all_results, axis=1)\n",
    "part_states.columns = [part_id_to_state[c] for c in part_states.columns]"
   ]
  },
  {
   "cell_type": "markdown",
   "metadata": {},
   "source": [
    "# Plot Unemployment vs Participation for each state!"
   ]
  },
  {
   "cell_type": "code",
   "execution_count": null,
   "metadata": {
    "execution": {
     "iopub.execute_input": "2022-10-20T14:30:57.554512Z",
     "iopub.status.busy": "2022-10-20T14:30:57.554099Z",
     "iopub.status.idle": "2022-10-20T14:30:57.561665Z",
     "shell.execute_reply": "2022-10-20T14:30:57.560742Z",
     "shell.execute_reply.started": "2022-10-20T14:30:57.554466Z"
    }
   },
   "outputs": [],
   "source": [
    "# Fix DC\n",
    "uemp_states = uemp_states.rename(columns={'the District of Columbia':'District Of Columbia'})"
   ]
  },
  {
   "cell_type": "code",
   "execution_count": null,
   "metadata": {
    "execution": {
     "iopub.execute_input": "2022-10-20T14:31:58.707875Z",
     "iopub.status.busy": "2022-10-20T14:31:58.707576Z",
     "iopub.status.idle": "2022-10-20T14:32:27.137163Z",
     "shell.execute_reply": "2022-10-20T14:32:27.136556Z",
     "shell.execute_reply.started": "2022-10-20T14:31:58.707835Z"
    }
   },
   "outputs": [],
   "source": [
    "fig, axs = plt.subplots(10, 5, figsize=(30, 30), sharex=True)\n",
    "axs = axs.flatten()\n",
    "\n",
    "i = 0\n",
    "for state in uemp_states.columns:\n",
    "    if state in [\"District Of Columbia\",\"Puerto Rico\"]:\n",
    "        continue\n",
    "    ax2 = axs[i].twinx()\n",
    "    uemp_states.query('index >= 2020 and index < 2022')[state] \\\n",
    "        .plot(ax=axs[i], label='Unemployment')\n",
    "    part_states.query('index >= 2020 and index < 2022')[state] \\\n",
    "        .plot(ax=ax2, label='Participation', color=color_pal[1])\n",
    "    ax2.grid(False)\n",
    "    axs[i].set_title(state)\n",
    "    i += 1\n",
    "plt.tight_layout()\n",
    "plt.show()"
   ]
  },
  {
   "cell_type": "code",
   "execution_count": null,
   "metadata": {
    "execution": {
     "iopub.execute_input": "2022-10-20T14:41:28.259356Z",
     "iopub.status.busy": "2022-10-20T14:41:28.259058Z",
     "iopub.status.idle": "2022-10-20T14:41:28.668029Z",
     "shell.execute_reply": "2022-10-20T14:41:28.667122Z",
     "shell.execute_reply.started": "2022-10-20T14:41:28.259303Z"
    }
   },
   "outputs": [],
   "source": [
    "state = 'California'\n",
    "fig, ax = plt.subplots(figsize=(10, 5), sharex=True)\n",
    "ax2 = ax.twinx()\n",
    "uemp_states2 = uemp_states.asfreq('MS')\n",
    "l1 = uemp_states2.query('index >= 2020 and index < 2022')[state] \\\n",
    "    .plot(ax=ax, label='Unemployment')\n",
    "l2 = part_states.dropna().query('index >= 2020 and index < 2022')[state] \\\n",
    "    .plot(ax=ax2, label='Participation', color=color_pal[1])\n",
    "ax2.grid(False)\n",
    "ax.set_title(state)\n",
    "fig.legend(labels=['Unemployment','Participation'])\n",
    "plt.show()"
   ]
  },
  {
   "cell_type": "markdown",
   "metadata": {},
   "source": [
    "# The End\n",
    "\n",
    "Now you explore!"
   ]
  }
 ],
 "metadata": {
  "kernelspec": {
   "display_name": "Python 3 (ipykernel)",
   "language": "python",
   "name": "python3"
  },
  "language_info": {
   "codemirror_mode": {
    "name": "ipython",
    "version": 3
   },
   "file_extension": ".py",
   "mimetype": "text/x-python",
   "name": "python",
   "nbconvert_exporter": "python",
   "pygments_lexer": "ipython3",
   "version": "3.9.12"
  }
 },
 "nbformat": 4,
 "nbformat_minor": 4
}
